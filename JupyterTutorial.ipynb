{
 "cells": [
  {
   "cell_type": "markdown",
   "metadata": {},
   "source": [
    "# Welcome to Jupyter\n",
    "\n",
    "Jupyter is an integrated, literate, and web-based programming environment. In Jupyter, you can author executable *Notebooks* that combine code, output, and documentation. It is dynamic and interpretive, and encourages exploration and experimentation.\n",
    "\n",
    "A Juputer notebook is divided into *cells*. Each cell can be executed and edited independently. You can also save the contents of cells to produce stand-alone programs if you wish. Jupyter supports many programming languages, such as Python, R, and Julia. We will use primarily Python 3 in this course.\n",
    "\n",
    "## Jupyter Environment\n",
    "You can access a Jupyter environment on a cloud service or locally with a python installation. The recommended cloud services are Azure Notebooks or Google Colab.\n",
    "\n",
    "### Azure Notebooks\n",
    "<ul>\n",
    "    <li>Go to notebooks.azure.com</li>\n",
    "    <li>Sign in using your CSUSM credentials </li>\n",
    "    <li>Select 'My Projects' in the top navigation bar </li>\n",
    "    <li>Select '+ New Project' </li>\n",
    "    <li>Select a name and hit create </li>\n",
    "    <li>Select your new project and hit 'Run on Free Compute' </li>\n",
    "    <li>You should now be at a notebook homepage. This can now be used just like the hub.</li>\n",
    "</ul>\n",
    "\n",
    "### Google Colab\n",
    "<ul> \n",
    "    <li>Go to colab.research.google.com </li>\n",
    "    <li>Sign in with a Google Account.</li>\n",
    "    <li>Upload notebooks to Google Drive.</li>\n",
    "    <li>Select Notebooks to open python environment.</li>\n",
    "</ul>\n",
    "\n",
    "### Local Installation\n",
    "This allows you to run Jupyter notebooks on your own computer and avoid cloud environments. You need to install a python distribution, e.g. the <a href=\"https://www.anaconda.com/products/individual\">Anaconda</a> distribution.\n",
    "<ul>\n",
    "    <li>Go to https://docs.anaconda.com/anaconda/install/ </li>\n",
    "    <li>Follow the installation instructions for your operating system </li>\n",
    "    <li>Create a folder for the class</li>\n",
    "    <li>Open a command prompt and go to the folder containing Jupyter notebooks, and type command \"jupyter notebook\". Alternatively, start the Anaconda Navigator program and select Launch under Jupyter Notebook. </li>\n",
    "    <li>The Jupyter server starts running and a screen like the Jupyterhub should appear in your browser</li>\n",
    "</ul>\n",
    "\n",
    "## Jupyter Notebooks of the Course\n",
    "The example notebooks of the course are available at https://notebooks.azure.com/xiaoyu-csusm/projects/cs614-fall2020. You should log in notebooks.azure.com and clone the project, to try them out in the cloud JupyterHub.  "
   ]
  },
  {
   "cell_type": "code",
   "execution_count": 1,
   "metadata": {},
   "outputs": [
    {
     "name": "stdout",
     "output_type": "stream",
     "text": [
      "0\n",
      "7\n",
      "14\n",
      "21\n",
      "28\n",
      "35\n",
      "42 cool\n",
      "49\n",
      "56\n",
      "63\n",
      "70\n",
      "77\n",
      "84\n"
     ]
    }
   ],
   "source": [
    "for i in range(0,91,7):\n",
    "    if (i == 42):\n",
    "        print(i, \"cool\")\n",
    "    else:\n",
    "        print(i)"
   ]
  },
  {
   "cell_type": "code",
   "execution_count": 2,
   "metadata": {},
   "outputs": [
    {
     "name": "stdout",
     "output_type": "stream",
     "text": [
      "['A', 'B', 'C', 'D', 'E', 'F', 'G']\n",
      "['A', 'D', 'G', 'J', 'M']\n",
      "{'B': 2, 'D': 4, 'F': 6, 'H': 8, 'J': 10, 'L': 12}\n",
      "['B', 'D', 'F', 'H', 'J', 'L']\n"
     ]
    }
   ],
   "source": [
    "# list comprehensions\n",
    "\n",
    "x = [base for base in \"ABCDEFG\"]\n",
    "print(x)\n",
    "x = [base for i, base in enumerate(\"ABCDEFGHIJKLM\") if i % 3 == 0]\n",
    "print(x)\n",
    "x = {base: i+1 for i, base in enumerate(\"ABCDEFGHIJKLM\") if i % 2 == 1}\n",
    "print(x)\n",
    "x = list(x)\n",
    "print(x)"
   ]
  },
  {
   "cell_type": "code",
   "execution_count": 3,
   "metadata": {},
   "outputs": [
    {
     "name": "stdout",
     "output_type": "stream",
     "text": [
      "[-16, -14, -12, -10, -8, -6, -4, -2, 0, 2, 4, 6, 8, 10, 12, 14, 16] 17\n"
     ]
    }
   ],
   "source": [
    "# In Python, the remainder of lines after a \"pound sign\" (a.k.a hashtag) is a comment.\n",
    "N = 16\n",
    "x = range(-N,N+1,2)    # range(N) -> [0, 1,..., N-1]; range(N,M) -> [N, N+1, ..., M-2, M-1]\n",
    "                       # range(N,M,S) -> [N, N+S, N+2S, ..., N+kS < M]\n",
    "\n",
    "print(list(x), len(x))"
   ]
  },
  {
   "cell_type": "code",
   "execution_count": 4,
   "metadata": {},
   "outputs": [
    {
     "name": "stdout",
     "output_type": "stream",
     "text": [
      "[256, 196, 144, 100, 64, 36, 16, 4, 0, 4, 16, 36, 64, 100, 144, 196, 256]\n",
      "[148, 142, 136, 130, 124, 118, 112, 106, 100, 94, 88, 82, 76, 70, 64, 58, 52]\n"
     ]
    }
   ],
   "source": [
    "y = [v*v for v in x]\n",
    "z = [100-3*v for v in x]\n",
    "print(y)\n",
    "print(z)"
   ]
  },
  {
   "cell_type": "code",
   "execution_count": 5,
   "metadata": {},
   "outputs": [
    {
     "data": {
      "image/png": "[encoded data removed]",
      "text/plain": [
       "<Figure size 432x288 with 1 Axes>"
      ]
     },
     "metadata": {
      "needs_background": "light"
     },
     "output_type": "display_data"
    }
   ],
   "source": [
    "%matplotlib inline\n",
    "import matplotlib.pyplot as plot\n",
    "\n",
    "result = plot.plot(x,y)\n",
    "result = plot.plot(x,z)"
   ]
  },
  {
   "cell_type": "markdown",
   "metadata": {},
   "source": [
    "# Next we'll consider some string manipulations"
   ]
  },
  {
   "cell_type": "code",
   "execution_count": 6,
   "metadata": {},
   "outputs": [
    {
     "name": "stdout",
     "output_type": "stream",
     "text": [
      "TAATTATGATAAAGAGAAGGGGTCAGGGCTAGTCCCAGGATCTACTATCTGGTCGTTGGTCCCCCATAACTCCTGATAGGTATGACCCCCGATCGCCCCA\n"
     ]
    }
   ],
   "source": [
    "import random\n",
    "\n",
    "bases = [\"ACGT\"[random.randint(0,3)] for i in range(100)]\n",
    "dna = ''.join(bases)\n",
    "\n",
    "print(dna)"
   ]
  },
  {
   "cell_type": "code",
   "execution_count": 9,
   "metadata": {},
   "outputs": [
    {
     "data": {
      "text/plain": [
       "'ACCCACCCGAGAATCCAACCTGTCGTTTACAGCCGTGGCGGAGGATGATA'"
      ]
     },
     "execution_count": 9,
     "metadata": {},
     "output_type": "execute_result"
    }
   ],
   "source": [
    "dna[::-2]"
   ]
  },
  {
   "cell_type": "code",
   "execution_count": 8,
   "metadata": {},
   "outputs": [
    {
     "name": "stdout",
     "output_type": "stream",
     "text": [
      "GGGGCTATTC AGACGTAGGCATAGGTGTGCTGACTAATAGGCAGTTGCATAGTAATTTTGAAAGCTTTTGGCGGATCCGGATTCTTGTGGTCCATAGTCT\n",
      "GGGGCTATTCAGACGTAGGC ATAGGTGTGCTGACTAATAGGCAGTTGCATAGTAATTTTGAAAGCTTTTGGCGGATCCGGATTCTTGTGGTCCATAGTCT\n",
      "GGGGCTATTCAGACGTAGGCATAGGTGTGC TGACTAATAGGCAGTTGCATAGTAATTTTGAAAGCTTTTGGCGGATCCGGATTCTTGTGGTCCATAGTCT\n",
      "GGGGCTATTCAGACGTAGGCATAGGTGTGCTGACTAATAG GCAGTTGCATAGTAATTTTGAAAGCTTTTGGCGGATCCGGATTCTTGTGGTCCATAGTCT\n",
      "GGGGCTATTCAGACGTAGGCATAGGTGTGCTGACTAATAGGCAGTTGCAT AGTAATTTTGAAAGCTTTTGGCGGATCCGGATTCTTGTGGTCCATAGTCT\n",
      "GGGGCTATTCAGACGTAGGCATAGGTGTGCTGACTAATAGGCAGTTGCATAGTAATTTTG AAAGCTTTTGGCGGATCCGGATTCTTGTGGTCCATAGTCT\n",
      "GGGGCTATTCAGACGTAGGCATAGGTGTGCTGACTAATAGGCAGTTGCATAGTAATTTTGAAAGCTTTTG GCGGATCCGGATTCTTGTGGTCCATAGTCT\n",
      "GGGGCTATTCAGACGTAGGCATAGGTGTGCTGACTAATAGGCAGTTGCATAGTAATTTTGAAAGCTTTTGGCGGATCCGG ATTCTTGTGGTCCATAGTCT\n",
      "GGGGCTATTCAGACGTAGGCATAGGTGTGCTGACTAATAGGCAGTTGCATAGTAATTTTGAAAGCTTTTGGCGGATCCGGATTCTTGTGG TCCATAGTCT\n"
     ]
    }
   ],
   "source": [
    "for i in range(10,len(dna),10):\n",
    "    print(dna[:i], dna[i:])"
   ]
  },
  {
   "cell_type": "code",
   "execution_count": 9,
   "metadata": {},
   "outputs": [
    {
     "name": "stdout",
     "output_type": "stream",
     "text": [
      "GGGGCTATTCAGACGTAGGCATAGGTGTGCTGACTAATAGGCAGTTGCATAGTAATTTTGAAAGCTTTTGGCGGATCCGGATTCTTGTGGTCCATAGTCT\n",
      "['GGGG', 'GGGC', 'GGCT', 'GCTA', 'CTAT', 'TATT', 'ATTC', 'TTCA', 'TCAG', 'CAGA', 'AGAC', 'GACG', 'ACGT', 'CGTA', 'GTAG', 'TAGG', 'AGGC', 'GGCA', 'GCAT', 'CATA', 'ATAG', 'TAGG', 'AGGT', 'GGTG', 'GTGT', 'TGTG', 'GTGC', 'TGCT', 'GCTG', 'CTGA', 'TGAC', 'GACT', 'ACTA', 'CTAA', 'TAAT', 'AATA', 'ATAG', 'TAGG', 'AGGC', 'GGCA', 'GCAG', 'CAGT', 'AGTT', 'GTTG', 'TTGC', 'TGCA', 'GCAT', 'CATA', 'ATAG', 'TAGT', 'AGTA', 'GTAA', 'TAAT', 'AATT', 'ATTT', 'TTTT', 'TTTG', 'TTGA', 'TGAA', 'GAAA', 'AAAG', 'AAGC', 'AGCT', 'GCTT', 'CTTT', 'TTTT', 'TTTG', 'TTGG', 'TGGC', 'GGCG', 'GCGG', 'CGGA', 'GGAT', 'GATC', 'ATCC', 'TCCG', 'CCGG', 'CGGA', 'GGAT', 'GATT', 'ATTC', 'TTCT', 'TCTT', 'CTTG', 'TTGT', 'TGTG', 'GTGG', 'TGGT', 'GGTC', 'GTCC', 'TCCA', 'CCAT', 'CATA', 'ATAG', 'TAGT', 'AGTC', 'GTCT']\n",
      "{'ACGT', 'CCGG', 'AATT', 'GATC', 'TGCA', 'AGCT'}\n",
      "['ATTC', 'TAGG', 'AGGC', 'GGCA', 'GCAT', 'CATA', 'ATAG', 'TAGG', 'TGTG', 'TAAT', 'ATAG', 'TAGG', 'AGGC', 'GGCA', 'GCAT', 'CATA', 'ATAG', 'TAGT', 'TAAT', 'TTTT', 'TTTG', 'TTTT', 'TTTG', 'CGGA', 'GGAT', 'CGGA', 'GGAT', 'ATTC', 'TGTG', 'CATA', 'ATAG', 'TAGT']\n",
      "['GGGG', 'GGGC', 'GGCT', 'GCTA', 'CTAT', 'TATT', 'TTCA', 'TCAG', 'CAGA', 'AGAC', 'GACG', 'ACGT', 'CGTA', 'GTAG', 'AGGT', 'GGTG', 'GTGT', 'GTGC', 'TGCT', 'GCTG', 'CTGA', 'TGAC', 'GACT', 'ACTA', 'CTAA', 'AATA', 'GCAG', 'CAGT', 'AGTT', 'GTTG', 'TTGC', 'TGCA', 'AGTA', 'GTAA', 'AATT', 'ATTT', 'TTGA', 'TGAA', 'GAAA', 'AAAG', 'AAGC', 'AGCT', 'GCTT', 'CTTT', 'TTGG', 'TGGC', 'GGCG', 'GCGG', 'GATC', 'ATCC', 'TCCG', 'CCGG', 'GATT', 'TTCT', 'TCTT', 'CTTG', 'TTGT', 'GTGG', 'TGGT', 'GGTC', 'GTCC', 'TCCA', 'CCAT', 'AGTC', 'GTCT']\n"
     ]
    }
   ],
   "source": [
    "def kmers(seq, k):\n",
    "    return [seq[i:i+k] for i in range(len(seq)-k+1)]\n",
    "\n",
    "def reverseComp(seq):\n",
    "    return ''.join([{'A':'T','C':'G','G':'C','T':'A'}[c] for c in reversed(seq)])\n",
    "\n",
    "kmerList = kmers(dna, 4)\n",
    "print(dna)\n",
    "print(kmerList)\n",
    "\n",
    "palindromes = [kmer for kmer in kmerList if reverseComp(kmer) == kmer]\n",
    "print(set(palindromes))\n",
    "\n",
    "repeats = [kmer for kmer in kmerList if kmerList.count(kmer) > 1]\n",
    "print(repeats)\n",
    "\n",
    "unique = [kmer for kmer in kmerList if kmerList.count(kmer) == 1]\n",
    "print(unique)"
   ]
  },
  {
   "cell_type": "code",
   "execution_count": 10,
   "metadata": {},
   "outputs": [
    {
     "name": "stdout",
     "output_type": "stream",
     "text": [
      "14.5 µs ± 97 ns per loop (mean ± std. dev. of 7 runs, 100000 loops each)\n",
      "1.98 µs ± 14.6 ns per loop (mean ± std. dev. of 7 runs, 100000 loops each)\n"
     ]
    }
   ],
   "source": [
    "def reverseCompV2(seq):\n",
    "    return ''.join(reversed(seq.translate(str.maketrans(\"ACGT\", \"TGCA\"))))\n",
    "\n",
    "assert reverseComp(dna) == reverseCompV2(dna)\n",
    "\n",
    "%timeit reverseComp(dna)\n",
    "%timeit reverseCompV2(dna)"
   ]
  },
  {
   "cell_type": "markdown",
   "metadata": {},
   "source": [
    "# For more challenges let's look at [Rosalind](http://rosalind.info)\n",
    "\n",
    "Let's try [problem 1](http://rosalind.info/problems/dna/)."
   ]
  },
  {
   "cell_type": "code",
   "execution_count": 11,
   "metadata": {},
   "outputs": [
    {
     "name": "stdout",
     "output_type": "stream",
     "text": [
      "20 12 17 21\n"
     ]
    }
   ],
   "source": [
    "dna = \"AGCTTTTCATTCTGACTGCAACGGGCAATATGTCTCTGTGTGGATTAAAAAAAGAGTGTCTGATAGCAGC\"\n",
    "\n",
    "print(\" \".join([str(dna.count(base)) for base in \"ACGT\"]))"
   ]
  },
  {
   "cell_type": "markdown",
   "metadata": {},
   "source": [
    "##  That was easy\n",
    "\n",
    "Let's try [problem 2](http://rosalind.info/problems/rna/)."
   ]
  },
  {
   "cell_type": "code",
   "execution_count": null,
   "metadata": {},
   "outputs": [],
   "source": [
    "dna = \"GATGGAACTTGACTACGTAAATT\"\n",
    "\n",
    "print(dna.replace('T','U'))"
   ]
  },
  {
   "cell_type": "code",
   "execution_count": null,
   "metadata": {},
   "outputs": [],
   "source": [
    "dna = \"GATGGAACTTGACTACGTAAATT\"\n",
    "\n",
    "print(''.join(['U' if (base == 'T') else base for base in dna]))"
   ]
  },
  {
   "cell_type": "markdown",
   "metadata": {},
   "source": [
    "## Also simple\n",
    "\n",
    "Let's try [problem 3](http://rosalind.info/problems/revc/)."
   ]
  },
  {
   "cell_type": "code",
   "execution_count": null,
   "metadata": {},
   "outputs": [],
   "source": [
    "dna = \"AAAACCCGGT\"\n",
    "\n",
    "print(''.join([{'A':'T','C':'G','G':'C','T':'A'}[base] for base in reversed(dna)]))"
   ]
  },
  {
   "cell_type": "markdown",
   "metadata": {},
   "source": [
    "## Will they ever require more than one line?\n",
    "\n",
    "Let's try [problem 4](http://rosalind.info/problems/fib/)."
   ]
  },
  {
   "cell_type": "code",
   "execution_count": null,
   "metadata": {},
   "outputs": [],
   "source": [
    "def rabbits(generations, pairsPerLitter):\n",
    "    sequence = [0,1]\n",
    "    while (len(sequence) - 1 < generations):\n",
    "        sequence.append(sequence[-2]*pairsPerLitter + sequence[-1])\n",
    "    return sequence[-1]\n",
    "\n",
    "print(rabbits(5, 3))"
   ]
  },
  {
   "cell_type": "markdown",
   "metadata": {},
   "source": [
    "# Now try one on your own\n",
    "\n",
    "Let's try [problem 5](http://rosalind.info/problems/gc/)."
   ]
  },
  {
   "cell_type": "code",
   "execution_count": null,
   "metadata": {},
   "outputs": [],
   "source": [
    "dna = \"CCACCCTCGTGGTATGGCTAGGCATTCAGGAACCGGAGAACGCTTCAGACCAGCCCGGACTGGGAACCTGCGGGCAGTAGGTGGAAT\"\n",
    "\n",
    "100.0*(dna.count('C') + dna.count('G'))/len(dna)"
   ]
  },
  {
   "cell_type": "code",
   "execution_count": null,
   "metadata": {},
   "outputs": [],
   "source": []
  },
  {
   "cell_type": "markdown",
   "metadata": {},
   "source": [
    "adopted from http://www.csbio.unc.edu/mcmillan/index.py?run=Courses.Comp555S20"
   ]
  }
 ],
 "metadata": {
  "anaconda-cloud": {},
  "kernelspec": {
   "display_name": "Python 3",
   "language": "python",
   "name": "python3"
  },
  "language_info": {
   "codemirror_mode": {
    "name": "ipython",
    "version": 3
   },
   "file_extension": ".py",
   "mimetype": "text/x-python",
   "name": "python",
   "nbconvert_exporter": "python",
   "pygments_lexer": "ipython3",
   "version": "3.8.3"
  }
 },
 "nbformat": 4,
 "nbformat_minor": 1
}
