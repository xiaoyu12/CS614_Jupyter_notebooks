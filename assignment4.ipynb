{
 "cells": [
  {
   "cell_type": "markdown",
   "metadata": {},
   "source": [
    "<div style=\"text-align: center;\">\n",
    "<h1>CS 614 Algorithms in Bioinformatics - Fall 2020</h1>\n",
    "<h1 >Assignment #4 </h1>\n",
    "</div>\n",
    "\n",
    "**Homework Information:** Please start early on the assignment as the problems probably require more time than the night before the due date. Late assignments will be penalized by a 10% per day. No homework will be accepted more than one week late. Feel free to ask for questions and help, but **the work you submit in should be your own.** It is very important that you enter your answers in the provided cells. You can add extra cells to explore approaches, but only the provided cell can and will be graded."
   ]
  },
  {
   "cell_type": "code",
   "execution_count": 2,
   "metadata": {},
   "outputs": [],
   "source": [
    "# Replace the following string values with the requested information\n",
    "# Leave the quotation marks surronding the string!\n",
    "class Student:\n",
    "    first = \"firstName\"\n",
    "    last = \"lastName\"\n",
    "    sid = \"StudentID\""
   ]
  },
  {
   "cell_type": "markdown",
   "metadata": {},
   "source": [
    "<h3> Problem 1 (15 points) </h3>\n",
    "<p>\n",
    "Construct a suffix array of the DNA sequence from \"DNA.txt\" with a '$' appended. Use it to find all the positions of the substring \"CATCAT\" within this substring, and their interval within the suffix array."
   ]
  },
  {
   "cell_type": "code",
   "execution_count": 11,
   "metadata": {},
   "outputs": [],
   "source": [
    "# This cell is provided for your code in answering problem \n",
    "import urllib.request\n",
    "\n",
    "# Read an example genome from an URL\n",
    "url = \"https://raw.githubusercontent.com/xiaoyu12/CS614_Jupyter_notebooks/master/data/DNA.txt\"\n",
    "with urllib.request.urlopen(url) as fp:\n",
    "    seq = fp.read().decode('utf-8')\n",
    "    \n",
    "seq = seq + '$'\n",
    "#print(seq)\n"
   ]
  },
  {
   "cell_type": "markdown",
   "metadata": {},
   "source": [
    "<h4>Problem 1.1 </h4>\n",
    "<h5>Enter your answers here. THIS CELL WILL BE GRADED. </h5> \n",
    "1. How many times \"CATCAT\" appear in the sequence? List positions within the sequence where \"CATCAT\" appears:\n",
    "\n",
    "<p><font color=red> ~~ enter your answer here ~~~ </font></p>\n",
    "\n",
    "<p>2. give the interval of the suffix array that references suffixes that begin with \"CATCAT\": \n",
    "<p>\n",
    "<p><font color=red> ~~ enter your answer here ~~~ </font></p>\n"
   ]
  },
  {
   "cell_type": "markdown",
   "metadata": {},
   "source": [
    "Use your suffix array from the above problem to construct a BWT of the specified substring.  Use this BWT to find out what is the longest run of uninterrupted \"A\"s, \"C\"s, \"G\"s, and \"T\"s in the DNA sequence, e.g. the length of the longest run of \"AAAAA....AAA\". \n"
   ]
  },
  {
   "cell_type": "code",
   "execution_count": 12,
   "metadata": {},
   "outputs": [],
   "source": [
    "# This cell is provided for your code in answering problem "
   ]
  },
  {
   "cell_type": "markdown",
   "metadata": {},
   "source": [
    "<h4>Problem 1.2 </h4>\n",
    "<h5>Enter your answers here. THIS CELL WILL BE GRADED. </h5> \n",
    "1. Length of longest run of As in BWT:\n",
    "<p>\n",
    "<p><font color=red> ~~ enter your answer here ~~~ </font></p>\n",
    "2. Length of longest run of Cs in BWT:\n",
    "<p>\n",
    "<p><font color=red> ~~ enter your answer here ~~~ </font></p>\n",
    "3. Length of longest run of Gs in BWT:\n",
    "<p>\n",
    "<p><font color=red> ~~ enter your answer here ~~~ </font></p>\n",
    "4. Length of longest run of Ts in BWT:\n",
    "<p>\n",
    "<p><font color=red> ~~ enter your answer here ~~~ </font></p>"
   ]
  },
  {
   "cell_type": "markdown",
   "metadata": {},
   "source": [
    "<h3>Problem 2 (10 points) </h3>\n",
    "<p>\n",
    "Given the following structure of a simple phylogenetic tree and leaf node bases.\n",
    "<p> <img src=\"https://raw.githubusercontent.com/xiaoyu12/CS614_Jupyter_notebooks/master/SimplePhyloTree.png\">\n",
    "    \n",
    "<p>Assuming the following constant mutation probably matrix and root node has equal prior probability for the four bases, compute the overall likelihood of the tree.\n",
    "<p> <img src=\"https://github.com/xiaoyu12/CS614_Jupyter_notebooks/raw/master/MutationTable.png\">\n"
   ]
  },
  {
   "cell_type": "markdown",
   "metadata": {},
   "source": [
    "<h5> Provide your answer to Problem 2 in this cell. </h5>\n",
    "<p><font color=red> ~~ enter your answer here ~~~ <br> \n",
    "    Please show the steps or code!</font></p>"
   ]
  },
  {
   "cell_type": "markdown",
   "metadata": {},
   "source": [
    "<h3>Problem 3 (20 points) K-means Clustering</h3>"
   ]
  },
  {
   "cell_type": "markdown",
   "metadata": {},
   "source": [
    "<h4>Problem 3.1 (5 points)</h4>\n",
    "Give an example of k-means clustering that has a clearly non-optimal scoring configuration (in comparison to an obviously better scoring one), where the Lloyd algorithm produces no improvement. \n",
    "<p><font color=red> ~~ enter your answer here ~~~ <br> "
   ]
  },
  {
   "cell_type": "markdown",
   "metadata": {},
   "source": [
    "<h4> Problem 3.2 (15 points) </h4>\n",
    "You will implement the k-means clustering algorithm to cluster gene expression data. As you know from lecture, \n",
    "k-means clustering aims to divide a set of genes into k clusters, with k determined in advance by the user. \n",
    "The expression values of each gene is represented as a vector xi. The goal of k-means clustering is to minimize \n",
    "the <em>Squared Error Distortion </em>. \n",
    " \n",
    "The implementation will be based on the Lloyd Algorithm\n",
    "<ol>\n",
    "<li>Initialize the k centroids randomly to k genes as starting points.</li>\n",
    "<li>Assign each gene to the cluster that has the closest centroid.</li>\n",
    "<li>After all genes have been assigned to clusters, recalculate the centroids for each cluster \n",
    "(as averages of all genes in the cluster). </li> \n",
    "<li>Repeat the gene assignments and centroid calculations until no change in gene assignment occurs between iterations.</li>\n",
    "</ol>\n",
    "\n",
    "Make sure you complete and run the following cells to implement of the k-means clustering algorithm. You need to complete the kmeansClustering() and squareErrorDistortion() functions."
   ]
  },
  {
   "cell_type": "code",
   "execution_count": 8,
   "metadata": {},
   "outputs": [],
   "source": [
    "# This cell is provided for your own use in answering problem 1\n",
    "import pandas as pd\n",
    "import numpy as np\n",
    "%matplotlib inline\n",
    "import matplotlib\n",
    "import matplotlib.pyplot as plt\n",
    "\n",
    "def calcEuclideanDistance(p1, p2):\n",
    "    \"\"\"\n",
    "    compute the squared Euclidean distance between two points\n",
    "    p1, p2 -- numpy array representing point coordinates\n",
    "    \"\"\"\n",
    "    # use numpy.linalg.norm function\n",
    "    return np.linalg.norm(p1 - p2)**2\n",
    "\n",
    "def findClosestCentroid(p, centroids):\n",
    "    \"\"\"\n",
    "    Find the closest centroid to the point p\n",
    "    p -- 1D numpy array representing coordinates of a point\n",
    "    centroids -- 2D numpy array representing coordinates of centroids\n",
    "    return: the id of closest centroid\n",
    "    \"\"\"\n",
    "    closest_cid = 0    # intialization\n",
    "    closest_dis = calcEuclideanDistance(p, centroids[0, ])\n",
    "    # Find the closest centroid\n",
    "    for i in range(1, centroids.shape[0]):\n",
    "        if calcEuclideanDistance(p, centroids[i, ]) < closest_dis:\n",
    "            closest_cid = i\n",
    "            closest_dis = calcEuclideanDistance(p, centroids[i, ])\n",
    "\n",
    "    return closest_cid\n",
    "\n",
    "def kmeansClustering(dataframe, k):\n",
    "    \"\"\"\n",
    "    Implement the Kmeans clustering algorithm\n",
    "    Input:\n",
    "        dataframe -- input data frame of gene expression data\n",
    "        k         -- number of clusters\n",
    "    Return:\n",
    "        labels    -- cluster label (number) of each data point\n",
    "        centroids -- coordinates of cluster centroids\n",
    "    \"\"\"\n",
    "    \n",
    "    #1. Intialized the k centroid randomly to k genes as starting points\n",
    "    ran_ids = np.random.choice(range(dataframe.shape[0]), size=k, replace=False)\n",
    "    centroids = np.array(dataframe.iloc[ran_ids, ])\n",
    "    labels = np.zeros(dataframe.shape[0], dtype=np.int)   # intialization of labels\n",
    "    \n",
    "    #2. Assign each gene to the cluster that has the closest centroid.\n",
    "    \n",
    "    #   ~~ Your code goes here~~\n",
    "    \n",
    "    #3. After all genes have been assigned to clusters, recalculate the centroids for each cluster \n",
    "    #  (as averages of all genes in the cluster).\n",
    "    \n",
    "    #   ~~ Your code goes here~~\n",
    "\n",
    "    #4. Repeat the gene assignments and centroid calculations until no change in gene assignment occurs between iterations.\n",
    "    \n",
    "    #   ~~ Your code goes here~~\n",
    "    \n",
    "    return labels, centroids\n",
    "    \n",
    "def squareErrorDistortion(dataframe, k, labels, centroids):\n",
    "    \"\"\" Given the k-means clustering result, compute the square error distortion\n",
    "    dataframe -- input data frame of gene expression data\n",
    "    k         -- number of clusters\n",
    "    labels    -- cluster label of each data point\n",
    "    centroids -- coordinates of cluster centroids\n",
    "    \"\"\"\n",
    "    sed = 0.0      # initialize the square error distortion\n",
    "    \n",
    "    #   ~~ Your code goes here~~\n",
    "        \n",
    "    return sed"
   ]
  },
  {
   "cell_type": "markdown",
   "metadata": {},
   "source": [
    "Now you will load an <a href=\"https://raw.githubusercontent.com/xiaoyu12/CS614_Jupyter_notebooks/master/data/Eisen.txt\">example data file</a> in the cell below and test the k-means clustering. Some genes may have missing values in the input file, which are common in real experiments. There are algorithms to handle the missing data. In this assignment, we just simply treat missing data as 0 for computation. However, your program should be aware of the possible missing values and replace them with 0."
   ]
  },
  {
   "cell_type": "code",
   "execution_count": 7,
   "metadata": {},
   "outputs": [
    {
     "name": "stdout",
     "output_type": "stream",
     "text": [
      "(141, 20)\n",
      "           1     2     3     4     5     6     7     8     9     10    11  \\\n",
      "0                                                                           \n",
      "YMR185W -0.64 -1.12 -0.62 -0.84 -0.25 -0.29 -0.07 -0.51 -0.04 -0.15 -0.43   \n",
      "YOR074C -1.43 -0.60  0.28  0.79  0.88  0.28  0.01 -1.03 -0.97 -0.40 -0.67   \n",
      "YNL066W -1.89 -2.56 -2.25 -2.56 -1.43 -1.40 -1.06 -1.47 -1.40 -1.64 -0.94   \n",
      "YDR144C -0.17 -0.51 -0.34  0.24  0.26 -0.27 -0.15 -0.69 -0.25 -0.51 -0.12   \n",
      "\n",
      "           12    13    14    15    16    17    18    19    20  \n",
      "0                                                              \n",
      "YMR185W -0.43 -0.17 -0.36 -0.12 -0.18 -0.42   NaN -0.01  0.74  \n",
      "YOR074C  0.45  0.44 -0.20 -0.56 -0.51 -0.92 -1.09 -0.27  0.42  \n",
      "YNL066W -0.62 -0.29 -0.76 -0.43 -0.84 -0.74 -1.43   NaN -0.04  \n",
      "YDR144C -0.09 -0.01 -0.15 -0.10 -0.25 -0.12 -0.40 -0.43 -0.29  \n",
      "square error distortion:  784.7756188684567\n",
      "square error distortion:  783.749562756158\n",
      "square error distortion:  784.7756188684567\n",
      "square error distortion:  775.0585668076109\n",
      "square error distortion:  779.9227112227311\n",
      "square error distortion:  779.9010781857643\n",
      "square error distortion:  775.8953609940872\n",
      "square error distortion:  793.7308049662201\n",
      "square error distortion:  874.378421650718\n",
      "square error distortion:  785.0434114023934\n",
      "Smallest square error distortion:  779.8735814989109\n",
      "Clustering labels:  [0 2 4 0 2 4 3 3 0 4 1 2 1 2 1 1 2 1 2 4 3 3 0 4 4 0 2 4 4 4 4 3 3 2 0 3 1\n",
      " 2 0 2 0 4 4 2 4 4 2 3 3 3 1 1 2 0 0 4 4 1 4 0 4 4 3 4 2 2 2 1 2 2 2 2 2 2\n",
      " 0 0 0 2 2 2 0 2 0 2 2 0 2 2 2 2 0 0 0 0 2 0 2 0 2 2 2 2 2 0 2 2 2 2 0 2 2\n",
      " 0 0 0 0 0 2 0 2 2 0 2 0 2 2 2 0 0 0 0 2 2 2 2 2 0 2 2 2 2 0]\n",
      "scikit-learn SquareErrorDistortion:  788.4439255866462\n"
     ]
    },
    {
     "data": {
      "image/png": "[encoded data removed]",
      "text/plain": [
       "<Figure size 432x288 with 10 Axes>"
      ]
     },
     "metadata": {
      "needs_background": "light"
     },
     "output_type": "display_data"
    }
   ],
   "source": [
    "# Load data and run k-means clustering.\n",
    "# This cell is graded\n",
    "\n",
    "import urllib.request\n",
    "\n",
    "# Read gene expression data into a Pandas dataframe\n",
    "url = \"https://raw.githubusercontent.com/xiaoyu12/CS614_Jupyter_notebooks/master/data/Eisen.txt\"\n",
    "with urllib.request.urlopen(url) as fp:\n",
    "    dataframe = pd.read_table(fp, index_col=0, header=None)\n",
    "print(dataframe.shape)\n",
    "print(dataframe.iloc[8:12, ])\n",
    "\n",
    "# convert missing data, i.e. nan, to 0\n",
    "# Hint: use dataframe.replace() function\n",
    "#   ~~ Your code goes here~~\n",
    "\n",
    "\n",
    "k = 5     # number of clusters\n",
    "\n",
    "best_sed = 1e10;\n",
    "best_labels = np.zeros(dataframe.shape[0], dtype=np.int)\n",
    "best_centroids = np.array(dataframe.iloc[0:k, ])\n",
    "# Run the k-means clustering multiple times and choose the best result\n",
    "for i in range(10):\n",
    "    labels, centroids = kmeansClustering(dataframe, k)\n",
    "    sed = squareErrorDistortion(dataframe, k, labels, centroids)\n",
    "    print(\"square error distortion: \", sed)\n",
    "    if sed < best_sed:\n",
    "        best_sed = sed\n",
    "        np.copyto(best_labels, labels)    # copy of an array\n",
    "        np.copyto(best_centroids, centroids)\n",
    "\n",
    "print(\"Smallest square error distortion: \", min_sed)    \n",
    "print(\"Clustering labels: \", min_labels)\n",
    "\n",
    "# plot the cluster centroids and data in the clusters\n",
    "for i in range(k):\n",
    "    # plot the centroid of cluster i\n",
    "    plt.subplot(k, 2, 2*i+1)\n",
    "    plt.plot(range(best_centroids.shape[1]), best_centroids[i, ])\n",
    "    # plot the data in cluster i\n",
    "    plt.subplot(k, 2, 2*i+2)\n",
    "    for j in range(dataframe.shape[0]):\n",
    "        if best_labels[j] == i:\n",
    "            plt.plot(range(best_centroids.shape[1]), np.array(dataframe.iloc[j, ]), 'g-')\n",
    "# Note your result might be a little different from this output because of random initializations\n",
    "            \n",
    "# compare your implementation to the KMeans clustering in the scikit-learn package\n",
    "from sklearn.cluster import KMeans\n",
    "kmeans = KMeans(n_clusters=k).fit(np.array(dataframe))\n",
    "#print(kmeans.cluster_centers_)\n",
    "print(\"scikit-learn SquareErrorDistortion: \", squareErrorDistortion(dataframe, k, kmeans.labels_, kmeans.cluster_centers_))\n",
    "\n"
   ]
  },
  {
   "cell_type": "code",
   "execution_count": null,
   "metadata": {},
   "outputs": [],
   "source": []
  }
 ],
 "metadata": {
  "kernelspec": {
   "display_name": "Python 3",
   "language": "python",
   "name": "python3"
  },
  "language_info": {
   "codemirror_mode": {
    "name": "ipython",
    "version": 3
   },
   "file_extension": ".py",
   "mimetype": "text/x-python",
   "name": "python",
   "nbconvert_exporter": "python",
   "pygments_lexer": "ipython3",
   "version": "3.7.7"
  }
 },
 "nbformat": 4,
 "nbformat_minor": 4
}
