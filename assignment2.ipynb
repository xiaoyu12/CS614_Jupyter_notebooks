{
 "cells": [
  {
   "cell_type": "markdown",
   "metadata": {},
   "source": [
    "<div style=\"text-align: center;\">\n",
    "<h1>CS 614 Algorithms in Bioinformatics - Fall 2020</h1>\n",
    "<h1 >Assignment #2 </h1>\n",
    "</div>\n",
    "\n",
    "**Homework Information:** Some of the problems are probably too long to be done the night before the due date, so plan accordingly. Late assignments will be penalized by a 10% per day. No homework will be accepted more than one week late. Feel free to ask for questions and help, but **the work you submit in should be your own.** It is very important that you enter your answers in the provided cells. You can add extra cells to explore approaches, but only the provided cell can and will be graded."
   ]
  },
  {
   "cell_type": "code",
   "execution_count": 2,
   "metadata": {},
   "outputs": [],
   "source": [
    "# Replace the following string values with the requested information\n",
    "# Leave the quotation marks surronding the string!\n",
    "class Student:\n",
    "    first = \"firstName\"\n",
    "    last = \"lastName\"\n",
    "    sid = \"StudentID\""
   ]
  },
  {
   "cell_type": "markdown",
   "metadata": {},
   "source": [
    "<h3> Problem 1 (15 points) </h3>\n",
    "<p>\n",
    "You may use the following loadFasta() function to read a FASTA file. Make sure that you run the following cell."
   ]
  },
  {
   "cell_type": "code",
   "execution_count": null,
   "metadata": {},
   "outputs": [],
   "source": [
    "import gzip\n",
    "import itertools\n",
    "import math\n",
    "%matplotlib inline\n",
    "import matplotlib\n",
    "import matplotlib.pyplot as plt\n",
    "import urllib.request\n",
    "\n",
    "def loadFasta(fp):\n",
    "    \"\"\" Parses a classically formatted FASTA file into two lists. \n",
    "        One of headers and a second list of sequences.\n",
    "        The ith index of each list correspond.\"\"\"\n",
    "    # split at headers\n",
    "    data = fp.read().decode('utf-8').split('>')\n",
    "    # ignore whatever appears before the 1st header\n",
    "    data.pop(0)     \n",
    "    headers = []\n",
    "    sequences = []\n",
    "    for sequence in data:\n",
    "        lines = sequence.split('\\n')\n",
    "        headers.append(lines.pop(0))\n",
    "        sequences.append(''.join(lines))\n",
    "    return (headers, sequences)\n"
   ]
  },
  {
   "cell_type": "markdown",
   "metadata": {},
   "source": [
    "<h5>Problem 1.1</h5>\n",
    "Write code to load <a href=\"https://raw.githubusercontent.com/xiaoyu12/CS614_Jupyter_notebooks/master/data/COVID19.fa\" download=\"COVID19.fa\">SARS-CoV-2 genome</a> and print out its percentages of A/T and C/G bases, where A/T percentage is defined as the ratio of the number of A and T bases over the total length of the sequence.   \n",
    "<p>Hint: use the loadFasta() function to read the SARS-CoV-2 genome from the URL below. "
   ]
  },
  {
   "cell_type": "code",
   "execution_count": null,
   "metadata": {},
   "outputs": [],
   "source": [
    "# Problem 1. This cell is graded.\n",
    "# URL to the SARS-CoV-2 genome FASTA file\n",
    "url = \"https://raw.githubusercontent.com/xiaoyu12/CS614_Jupyter_notebooks/master/data/COVID19.fa\"\n",
    "\n",
    "# ~ your code goes here ~"
   ]
  },
  {
   "cell_type": "markdown",
   "metadata": {},
   "source": [
    "<h5> Problem 1.2 </h5>\n",
    "Find the longest common subsequence (LCS) between the first 100 bases and the second 100 bases of the <a href=\"https://raw.githubusercontent.com/xiaoyu12/CS614_Jupyter_notebooks/master/data/COVID19.fa\" download=\"COVID19.fa\">SARS-CoV-2 genome</a>. Report both the length of the LCS as well as the subsequence. (You can use the example LCS code from the course)"
   ]
  },
  {
   "cell_type": "raw",
   "metadata": {},
   "source": [
    "Enter your answer here."
   ]
  },
  {
   "cell_type": "markdown",
   "metadata": {},
   "source": [
    "<h5> Problem 1.3 </h5>\n",
    "Find the best global alignment score between the first 100 bases and the second 100 bases of the <a href=\"https://raw.githubusercontent.com/xiaoyu12/CS614_Jupyter_notebooks/master/data/COVID19.fa\" download=\"COVID19.fa\">SARS-CoV-2 genome</a>. Assume the following alignment scoring:\n",
    "\n",
    "+1 for a match\n",
    "-1 for a mismatch\n",
    "-2 for an indel"
   ]
  },
  {
   "cell_type": "raw",
   "metadata": {},
   "source": [
    "Enter your answer here"
   ]
  },
  {
   "cell_type": "markdown",
   "metadata": {},
   "source": [
    "<h5> Problem 1.4 </h5>\n",
    "Find the best local alignment score between the first 100 bases and the second 100 bases of the <a href=\"https://raw.githubusercontent.com/xiaoyu12/CS614_Jupyter_notebooks/master/data/COVID19.fa\" download=\"COVID19.fa\">SARS-CoV-2 genome</a>. Assume the following alignment scoring:\n",
    "\n",
    "+1 for a match\n",
    "-1 for a mismatch\n",
    "-2 for an indel"
   ]
  },
  {
   "cell_type": "raw",
   "metadata": {},
   "source": [
    "Enter your answer here"
   ]
  },
  {
   "cell_type": "markdown",
   "metadata": {},
   "source": [
    "<h5> Problme 1.5</h5>\n",
    "Give the actual local alignment that has the best score in the above problem."
   ]
  },
  {
   "cell_type": "raw",
   "metadata": {},
   "source": [
    "Enter your answer here"
   ]
  },
  {
   "cell_type": "markdown",
   "metadata": {},
   "source": [
    "<style>\n",
    "    .monospace{font-family:\"Courier New\",Monaco,monospace;}\n",
    "    </style>\n",
    "    \n",
    "<h3>Problem 2 (5 points) </h3>\n",
    "<p>\n",
    "<b>BLAST Searching A Nucleotide Sequence Database </b>\n",
    "<p>\n",
    "Michael Crichton's fantasy about cloning dinosaurs, Jurassic Park, contains a putative dinosaur DNA sequence DionDNA as following.\n",
    "<p style=\"font-family: Courier,monospace;\">\n",
    "GCGTTGCTGGCGTTTTTCCATAGGCTCCGCCCCCCTGACGAGCATCACAAAAATCGACGC\n",
    "GGTGGCGAAACCCGACAGGACTATAAAGATACCAGGCGTTTCCCCCTGGAAGCTCCCTCG\n",
    "TGTTCCGACCCTGCCGCTTACCGGATACCTGTCCGCCTTTCTCCCTTCGGGAAGCGTGGC\n",
    "TGCTCACGCTGTACCTATCTCAGTTCGGTGTAGGTCGTTCGCTCCAAGCTGGGCTGTGTG\n",
    "CCGTTCAGCCCGACCGCTGCGCCTTATCCGGTAACTATCGTCTTGAGTCCAACCCGGTAA\n",
    "AGTAGGACAGGTGCCGGCAGCGCTCTGGGTCATTTTCGGCGAGGACCGCTTTCGCTGGAG\n",
    "ATCGGCCTGTCGCTTGCGGTATTCGGAATCTTGCACGCCCTCGCTCAAGCCTTCGTCACT\n",
    "CCAAACGTTTCGGCGAGAAGCAGGCCATTATCGCCGGCATGGCGGCCGACGCGCTGGGCT\n",
    "GGCGTTCGCGACGCGAGGCTGGATGGCCTTCCCCATTATGATTCTTCTCGCTTCCGGCGG\n",
    "CCCGCGTTGCAGGCCATGCTGTCCAGGCAGGTAGATGACGACCATCAGGGACAGCTTCAA\n",
    "CGGCTCTTACCAGCCTAACTTCGATCACTGGACCGCTGATCGTCACGGCGATTTATGCCG\n",
    "CACATGGACGCGTTGCTGGCGTTTTTCCATAGGCTCCGCCCCCCTGACGAGCATCACAAA\n",
    "CAAGTCAGAGGTGGCGAAACCCGACAGGACTATAAAGATACCAGGCGTTTCCCCCTGGAA\n",
    "GCGCTCTCCTGTTCCGACCCTGCCGCTTACCGGATACCTGTCCGCCTTTCTCCCTTCGGG\n",
    "CTTTCTCAATGCTCACGCTGTAGGTATCTCAGTTCGGTGTAGGTCGTTCGCTCCAAGCTG\n",
    "ACGAACCCCCCGTTCAGCCCGACCGCTGCGCCTTATCCGGTAACTATCGTCTTGAGTCCA\n",
    "ACACGACTTAACGGGTTGGCATGGATTGTAGGCGCCGCCCTATACCTTGTCTGCCTCCCC\n",
    "GCGGTGCATGGAGCCGGGCCACCTCGACCTGAATGGAAGCCGGCGGCACCTCGCTAACGG\n",
    "CCAAGAATTGGAGCCAATCAATTCTTGCGGAGAACTGTGAATGCGCAAACCAACCCTTGG\n",
    "CCATCGCGTCCGCCATCTCCAGCAGCCGCACGCGGCGCATCTCGGGCAGCGTTGGGTCCT\n",
    "    </p>\n",
    "    \n",
    "Use nucleotide-nucleotide BLAST against the default nucleotide database, nr, to identify the real source of this sequence. \n",
    "<p>\n",
    "    <ol>\n",
    "    <li>Go the NCBI Blast home page at <a href=\"http://www.ncbi.nlm.nih.gov/BLAST/\">http://www.ncbi.nlm.nih.gov/BLAST/</a>.   Choose nucleotide  BLAST (blastn) and select the database as \"Nucleotide collection (nr/nt)\", which is the collection of all sequenced nucleotides.</li>\n",
    "        <li>Paste the DinoDNA DNA sequence into the text box and hit the “BLAST” button. </li>\n",
    "</ol>            \n",
    "Answer the following questions based on the BLAST results."
   ]
  },
  {
   "cell_type": "markdown",
   "metadata": {},
   "source": [
    "1.\tWhat is the Sequence ID of the first result? \n",
    "<p> <span style=\"color: red\"> ~~ Your answer goes here ~~ </span> </p>\n",
    "2.\tWhat is the length of the HSP (High scoring pair) of the first result? \n",
    "<p> <span style=\"color: red\"> ~~ Your answer goes here ~~ </span> </p>\n",
    "3.\tWhat is the score and e-value of the first result? \n",
    "<p> <span style=\"color: red\"> ~~ Your answer goes here ~~ </span> </p>\n",
    "4.\tBased on the BLAST results, is the DNA sequence in Jurassic park fictional (i.e. made up /random) or “borrowed” (i.e. copied from real DNA)?\n",
    "<p> <span style=\"color: red\"> ~~ Your answer goes here ~~ </span> </p>\n"
   ]
  },
  {
   "cell_type": "markdown",
   "metadata": {},
   "source": [
    "<h3>Problem #3 (10 points + 5 extra points)</h3>\n",
    "<p>\n",
    "    <b>Mulitple sequence alignment</b>\n",
    "    </p>\n",
    "A multiple alignment of a collection of three or more sequences is formed by adding gap symbols to the sequences to produce a collection of augmented sequences all having the same length, for example\n",
    "<p style=\"font-family: Courier,monospace;\">\n",
    "ATAT-CCG<br>\n",
    "-T---CCG<br>\n",
    "ATGTACTG<br>\n",
    "ATGT-CTG<br>\n",
    "    </p>\n",
    "    "
   ]
  },
  {
   "cell_type": "markdown",
   "metadata": {},
   "source": [
    "<h5>Problem 3.1 (5 points)</h5>\n",
    "<p>\n",
    "A multiple alignment SP score (sum of pairs) can be computed by taking the sum of an alignment score over all possible pairs \n",
    "of augmented sequences. The only difference in scoring the alignment of two strings is that two gap symbols \n",
    "may be aligned for a given pair (requiring us to specify a score for matched gap symbols).\n",
    "\n",
    "<p>\n",
    "Given the score for matched bases, matched gaps and mismatched symbols, write a function to compute the score of \n",
    "a multiple sequence alignment. For the simplicity, we define the scoring matrix using only three numbers. "
   ]
  },
  {
   "cell_type": "code",
   "execution_count": 7,
   "metadata": {},
   "outputs": [],
   "source": [
    "# Problem 3: This cell is graded \n",
    "import numpy\n",
    "\n",
    "# the score variable defines the score for matched bases, matched gaps \n",
    "# and mismatched symbols. The default values are 1, 0 and -1 respectively\n",
    "def multAlignmentScore(mult_alignment, score=[1, 0, -1]):\n",
    "    \"\"\"\n",
    "    Compute the score a multiple sequence alignment. \n",
    "    The mult_alignment is given as a list of augmented\n",
    "    sequences of the same length.\n",
    "    \"\"\"\n",
    "    score = 0\n",
    "    #   ~~ Your code goes here~~\n",
    "    return score"
   ]
  },
  {
   "cell_type": "code",
   "execution_count": null,
   "metadata": {},
   "outputs": [],
   "source": [
    "The following cell below is provided for testing your code. "
   ]
  },
  {
   "cell_type": "code",
   "execution_count": 4,
   "metadata": {},
   "outputs": [
    {
     "name": "stdout",
     "output_type": "stream",
     "text": [
      "4\n",
      "8\n",
      "multiple alignment score =  0\n",
      "Wall time: 0 ns\n"
     ]
    }
   ],
   "source": [
    "s=[1, 0.5, -1]\n",
    "alignment = [\"ATAT-CCG\", \"-T---CCG\", \"ATGTACTG\", \"ATGT-CTG\"]\n",
    "print(len(alignment))\n",
    "print(len(alignment[1]))\n",
    "%time print(\"multiple alignment score = \", multAlignmentScore(alignment, s))"
   ]
  },
  {
   "cell_type": "markdown",
   "metadata": {},
   "source": [
    "<h5>Problem 3.2 (5 extras homework points)</h5>\n",
    "<p>\n",
    "Write a function to find the multiple alignment with the hightest score, as computed in the multAlignmentScore() function, for a list of sequences.\n",
    "<p> \n",
    "In order to avoid excessive computing time, assume there are at most 4 sequences with lengths are no more than 10 bases.\n",
    "<p>\n",
    "    <em>Note: Extra points are for homework, not entire course.</em>"
   ]
  },
  {
   "cell_type": "code",
   "execution_count": 1,
   "metadata": {},
   "outputs": [],
   "source": [
    "# The input sequences is list of sequences\n",
    "def multAlign(sequences, score=[1, 0, -1]):\n",
    "    \"\"\"\n",
    "    Compute the highest-score alignment of multiple sequences\n",
    "    \"\"\"\n",
    "    best_alignment = []\n",
    "    best_score = 0\n",
    "    #   ~~ Your code goes here~~\n",
    "    return (best_score, best_alignment)"
   ]
  },
  {
   "cell_type": "markdown",
   "metadata": {},
   "source": [
    "<h5> Problem 3.3 (5 points) </h5> \n",
    "<p>\n",
    "MUSCLE stands for MUltiple Sequence Comparison by Log- Expectation. MUSCLE is claimed to achieve both better average accuracy and better speed than ClustalW2 or T-Coffee, for multiple sequence alignments.\n",
    "<p>\n",
    "    Follow this <a href=\"https://www.ebi.ac.uk/Tools/msa/muscle/\">link</a> for a convenient online interface that runs MUSCLE on the EBI website.   \n",
    "     Use <a href=\"https://www.ebi.ac.uk/Tools/msa/muscle/\">MUSCLE</a> to align the nucleotide sequences in <a href=\"https://raw.githubusercontent.com/xiaoyu12/CS614_Jupyter_notebooks/master/data/mult_seqs.fa\" downlaod=\"mult_seqs.fa\">this FASTA file</a>.<p>\n",
    "\n",
    "Choose the default \"ClustalW\" output format, and Copy and paste the output multiple alignment in the cell below. Also give the ID of the sequence most different from the others."
   ]
  },
  {
   "cell_type": "raw",
   "metadata": {},
   "source": [
    "~~ copy the alignment here ~~\n",
    "\n",
    "\n",
    "What is the ID of the sequence most different from the others?\n"
   ]
  },
  {
   "cell_type": "code",
   "execution_count": null,
   "metadata": {},
   "outputs": [],
   "source": []
  }
 ],
 "metadata": {
  "kernelspec": {
   "display_name": "Python 3",
   "language": "python",
   "name": "python3"
  },
  "language_info": {
   "codemirror_mode": {
    "name": "ipython",
    "version": 3
   },
   "file_extension": ".py",
   "mimetype": "text/x-python",
   "name": "python",
   "nbconvert_exporter": "python",
   "pygments_lexer": "ipython3",
   "version": "3.7.7"
  }
 },
 "nbformat": 4,
 "nbformat_minor": 4
}
