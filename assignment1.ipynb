{
 "cells": [
  {
   "cell_type": "markdown",
   "metadata": {
    "section": "header"
   },
   "source": [
    "<div style=\"text-align: center;\">\n",
    "<h1>CS 614 Algorithms in Bioinformatics - Fall 2020</h1>\n",
    "<h1 >Assignment #1 </h1>\n",
    "</div>\n",
    "\n",
    "**Homework Information:** Some of the problems are probably too long to be done the night before the due date, so plan accordingly. Late assignments will be penalized by a 10% per day. No homework will be accepted more than one week late. Feel free to ask for questions and help, but **the work you submit in should be your own.** It is very important that you enter your answers in the provided cells. You can add extra cells to explore approaches, but only the provided cell can and will be graded.\n",
    "\n",
    "**Warning:** This notebook has been annotated with metadata so that it can be uploaded to the grading system. Thus, if you delete a cell and add a replacement, there is a possiblity that your problem will not be graded. If you ever need to start over, you should download a new version of the problem set and transfer your solutions to it."
   ]
  },
  {
   "cell_type": "code",
   "execution_count": 1,
   "metadata": {
    "section": "signature"
   },
   "outputs": [],
   "source": [
    "# Replace the following string values with your information\n",
    "# Leave the quotation marks surronding the string!\n",
    "class Student:\n",
    "    first = \"firstName\"\n",
    "    last = \"lastName\"\n",
    "    sid = \"StudentID\""
   ]
  },
  {
   "cell_type": "markdown",
   "metadata": {},
   "source": [
    "<h3>Problem 1. (5 points) </h3> \n",
    "<i>Answer following short questions and provide references to your answers in this cell. You may research them on Internet or other resources. </i>\n",
    "<p> You can double click to edit this markdown cell.</p>\n",
    "<p><span style=\"font-size: 100%\"><strong>(a) What is GenBank? How many nucleotide bases are currently in GenBank?</strong></span></p>\n",
    "<p> <span style=\"color: red\"> ~~ Your answer goes here ~~ </span> </p>\n",
    "<p><strong> (b) How many protein structures are currently available in the Protein data bank (PDB)? </strong> </p>\n",
    "<p> <span style=\"color: red\"> ~~ Your answer goes here ~~ </span> </p>\n",
    "<p><strong>(c) What is UniProt database? How many entries are available in the current release of UniProtKB/Swiss-Prot? </strong></p>\n",
    "<p> <span style=\"color: red\"> ~~ Your answer goes here ~~ </span> </p>\n",
    "<p><strong>(d) What is the sequence for the protein \"Human Hemoglobin subunit alpha 1 (HBA1)\"? What is its function? </strong></p>\n",
    "<p> <span style=\"color: red\"> ~~ Your answer goes here ~~ </span> </p>"
   ]
  },
  {
   "cell_type": "markdown",
   "metadata": {},
   "source": [
    "<h3>Problem 2 (5 points ) </h3>\n",
    "<p>\n",
    "Determine which of following run times are polynomial bound, and find the degree of polynomial in the big <mathjax>$O$</mathjax> notation, e.g. <mathjax>$2n = O(n)$</mathjax> with polynomial of degree 1.\n",
    "<p> You can double click to edit this markdown cell.</p>\n",
    "<p> <strong> (a) <mathjax>$n\\dot\\log(n)$</mathjax> </strong></p>\n",
    "<p> <span style=\"color: red\"> ~~ Your answer goes here ~~ </span> </p>\n",
    "<p> <strong> (b) <mathjax>$n!$</mathjax> </strong></p>\n",
    "<p> <span style=\"color: red\"> ~~ Your answer goes here ~~ </span> </p>\n",
    "<p> <strong> (c) <mathjax>$\\left(\\begin{matrix}2n\\\\n\\\\\\end{matrix}\\right)$</mathjax> </strong></p>\n",
    "<p> <span style=\"color: red\"> ~~ Your answer goes here ~~ </span> </p>\n",
    "<p> <strong> (d) <mathjax>$\\left(2n+1\\right)^3$</mathjax> </strong></p>\n",
    "<p> <span style=\"color: red\"> ~~ Your answer goes here ~~ </span> </p>\n",
    "<p> <strong> (e) <mathjax>$\\frac{n\\left(n+1\\right)\\left(n+2\\right)}{6}$</mathjax> </strong></p>\n",
    "<p> <span style=\"color: red\"> ~~ Your answer goes here ~~ </span> </p>"
   ]
  },
  {
   "cell_type": "markdown",
   "metadata": {},
   "source": [
    "<h3> Problem 3. (5 points)</h3>\n",
    "\n",
    "<p>Given two <a class=\"term\" href=\"/glossary/string/\" id=\"term-803\" rel=\"tooltip\" title=\"\n",
    "An ordered collection of symbols formed into a word.\">strings</a> <mathjax>$s$</mathjax> and <mathjax>$t$</mathjax> of equal length, the <a class=\"term new\" href=\"/glossary/hamming-distance/\" id=\"term-238\" rel=\"tooltip\" title=\"New term: \n",
    "The minimum number of symbol substitutions required to change one string into another of equal length.\">Hamming distance</a>\n",
    "between <mathjax>$s$</mathjax> and <mathjax>$t$</mathjax>, denoted <mathjax>$d_{\\mathrm{H}}(s, t)$</mathjax>, is the number of corresponding symbols\n",
    "that differ in <mathjax>$s$</mathjax> and <mathjax>$t$</mathjax>. </p>\n",
    "<p><span class=\"given-return\">Given:</span> Two <a class=\"term\" href=\"/glossary/dna-string/\" id=\"term-349\" rel=\"tooltip\" title=\"\n",
    "A string constructed from the alphabet {A, C, G, T}.\">DNA strings</a> <mathjax>$s$</mathjax> and <mathjax>$t$</mathjax> of equal length (not exceeding 1 <a class=\"term\" href=\"/glossary/kbp/\" id=\"term-394\" rel=\"tooltip\" title=\"\n",
    "1 kbp = 1000 base pairs\">kbp</a>).</p>\n",
    "<p><span class=\"given-return\">Return:</span> The Hamming distance <mathjax>$d_{\\mathrm{H}}(s, t)$</mathjax>.</p>\n",
    "\n",
    "<h6 id=\"sample-dataset\">Sample Dataset</h6>\n",
    "<div class=\"http://rosalind.info/thumb\"><img src=\"http://rosalind.info/media/problems/hamm/Hamming_distance.png\" /><div align=\"center\" class=\"caption\"><strong>Figure 1</strong><span>. </span><span>The Hamming distance between these two strings is 7. Mismatched symbols are colored red.</span></div>\n",
    "</div>\n",
    "\n",
    "Write a function in the cell below to calculate the Hamming distance between two input strings s and t. This cell should include only your function definition. A cell for testing is provided after. <p>\n",
    "<a href=\"http://rosalind.info/problems/hamm/\">Question link </a>on Rosalind"
   ]
  },
  {
   "cell_type": "code",
   "execution_count": 4,
   "metadata": {},
   "outputs": [],
   "source": [
    "# Problem 3: This cell is graded \n",
    "def distHamming(s, t):\n",
    "    dist = 0\n",
    "    #   ~~ Your code goes here~~\n",
    "    return dist"
   ]
  },
  {
   "cell_type": "markdown",
   "metadata": {},
   "source": [
    "The following cell below is provided for testing your distHamming() function. You may test it with other additional sequences too. "
   ]
  },
  {
   "cell_type": "code",
   "execution_count": 6,
   "metadata": {},
   "outputs": [
    {
     "name": "stdout",
     "output_type": "stream",
     "text": [
      "Hamming distance = 0\n"
     ]
    }
   ],
   "source": [
    "s1 = \"GAGCCTACTAACGGGATCAG\"\n",
    "s2 = \"CATCGTAATGACGGCCTGAC\"\n",
    "\n",
    "print(\"Hamming distance =\", distHamming(s1, s2))"
   ]
  },
  {
   "cell_type": "markdown",
   "metadata": {
    "section": "setup"
   },
   "source": [
    "<h3> Problem #4 (10 points) </h3>\n",
    "This problem set will examine k-mers of a genome sequence. A k-mer is a length k substring of the original sequence. For example, \"GAGCC\" and \"AGCCT\" are 5-mers of the sequence \"GAGCCTACTAACGGGATCAG\". \n",
    "\n",
    "Some answers are provided in order to test your code for the genome of <a href=\"https://raw.githubusercontent.com/xiaoyu12/CS614_Jupyter_notebooks/master/data/ThermotogaPetrophila.fa\" download=\"ThermotogaPetrophila.fa\">ThermotogaPetrophila.fa</a>.\n",
    "\n",
    "The cell below provides functions and imports necessary for this problem set. Do not import any addtional packages. Also, make sure that you ***run the following cell***."
   ]
  },
  {
   "cell_type": "code",
   "execution_count": 6,
   "metadata": {
    "section": "givencode"
   },
   "outputs": [
    {
     "name": "stdout",
     "output_type": "stream",
     "text": [
      "CP000702.1 Thermotoga petrophila RKU-1, complete genome\n",
      "AGTTGGACGAAGGTTCTGATCCCTACAGAACACCTGCCCTGAAATGGTCC\n"
     ]
    }
   ],
   "source": [
    "import gzip\n",
    "import itertools\n",
    "import math\n",
    "%matplotlib inline\n",
    "import matplotlib\n",
    "import matplotlib.pyplot as plt\n",
    "import urllib.request\n",
    "\n",
    "def loadFasta(fp):\n",
    "    \"\"\" Parses a classically formatted FASTA file into two lists. \n",
    "        One of headers and a second list of sequences.\n",
    "        The ith index of each list correspond.\"\"\"\n",
    "    # split at headers\n",
    "    data = fp.read().decode('utf-8').split('>')\n",
    "    # ignore whatever appears before the 1st header\n",
    "    data.pop(0)     \n",
    "    headers = []\n",
    "    sequences = []\n",
    "    for sequence in data:\n",
    "        lines = sequence.split('\\n')\n",
    "        headers.append(lines.pop(0))\n",
    "        sequences.append(''.join(lines))\n",
    "    return (headers, sequences)\n",
    "\n",
    "# Read an example genome from an URL\n",
    "url = \"https://raw.githubusercontent.com/xiaoyu12/CS614_Jupyter_notebooks/master/data/ThermotogaPetrophila.fa\"\n",
    "with urllib.request.urlopen(url) as fp:\n",
    "    headers, sequences = loadFasta(fp)\n",
    "\n",
    "# Print the first 50 bases of sequences[0]\n",
    "print(headers[0])\n",
    "print(sequences[0][:50])"
   ]
  },
  {
   "cell_type": "markdown",
   "metadata": {},
   "source": [
    "---\n",
    "**Problem 4.1:**\n",
    "\n",
    "Write a function to find the most frequent *k*-mers in a given sequence, i.e. the k-mer that appear the most number of times in the sequence. A template for the function is provided in the cell below. This function should return the list of the most frequent k-mers and the number of times it appears in the sequence. If there are multiple most frequent k-mers, the list should contain all of them."
   ]
  },
  {
   "cell_type": "code",
   "execution_count": 7,
   "metadata": {},
   "outputs": [],
   "source": [
    "# Problem 4.1 function. This cell is graded.\n",
    "def mostFrequentKmers(seq, k):\n",
    "    \"\"\" Returns the most frequent k-mer of the length k\"\"\"\n",
    "    most_fq_kmers = []     # the list of most frequent k-mers\n",
    "    most_fq_count = 0\n",
    "    \n",
    "    #   ~~ Your code goes here~~\n",
    "    return (most_fq_count, most_fq_kmers)\n",
    "    "
   ]
  },
  {
   "cell_type": "markdown",
   "metadata": {},
   "source": [
    "The following cell below is provided for testing your code. This cell will not be considered during grading."
   ]
  },
  {
   "cell_type": "code",
   "execution_count": 9,
   "metadata": {},
   "outputs": [
    {
     "name": "stdout",
     "output_type": "stream",
     "text": [
      "Wall time: 0 ns\n",
      "0\n",
      "[]\n"
     ]
    }
   ],
   "source": [
    "%time count, kmers = mostFrequentKmers(sequences[0], 10)\n",
    "print(count)\n",
    "print(kmers)\n",
    " \n",
    "# Answer is 65\n",
    "#['CTTTTTCTTT']"
   ]
  },
  {
   "cell_type": "markdown",
   "metadata": {
    "number": 2,
    "section": "problem"
   },
   "source": [
    "---\n",
    "**Problem 4.2:**\n",
    "\n",
    "Write a function that returns a list of *k*-mers that appear exactly once for a given value of *k* in a given sequence *seq*. A template for the function is provided in the cell below. Once more, only include your function implementation in the cell below."
   ]
  },
  {
   "cell_type": "code",
   "execution_count": 4,
   "metadata": {
    "number": 2,
    "section": "answer"
   },
   "outputs": [],
   "source": [
    "# This cell is graded\n",
    "def NotRepeated(seq, k):\n",
    "    \"\"\" \n",
    "    Return the list of k-mers that appear exactly once in the sequence\n",
    "    \"\"\"\n",
    "    onceList = []\n",
    "    # ~Your code goes here~\n",
    "    return onceList"
   ]
  },
  {
   "cell_type": "markdown",
   "metadata": {
    "number": 2,
    "section": "workspace"
   },
   "source": [
    "Use the following cell to test your function. It plots the number of unique k-mers vs. the lenght *k*."
   ]
  },
  {
   "cell_type": "code",
   "execution_count": 10,
   "metadata": {
    "number": 2,
    "section": "workcode"
   },
   "outputs": [
    {
     "data": {
      "text/plain": [
       "[<matplotlib.lines.Line2D at 0x17fd59178c8>]"
      ]
     },
     "execution_count": 10,
     "metadata": {},
     "output_type": "execute_result"
    },
    {
     "data": {
      "image/png": "[encoded data removed]",
      "text/plain": [
       "<Figure size 432x288 with 1 Axes>"
      ]
     },
     "metadata": {
      "needs_background": "light"
     },
     "output_type": "display_data"
    }
   ],
   "source": [
    "unique = []\n",
    "upper = 17\n",
    "for k in range(1,upper):\n",
    "    singletons = NotRepeated(sequences[0], k)\n",
    "    unique.append(len(singletons))\n",
    "plt.xlabel(\"k\")\n",
    "plt.ylabel(\"# of unique k-mers\")\n",
    "plt.plot(range(1,upper), unique)"
   ]
  },
  {
   "cell_type": "markdown",
   "metadata": {},
   "source": [
    "---\n",
    "\n",
    "### Instructions for submitting assignments\n",
    "\n",
    "<font color=\"brown\">1. Use the *File* menu of your Jupyter notebook to save a copy of your completed notebook \".ipynb\" file. Name your file as \"userid_assignment_#.ipynb\". For example, if your school ID is \"xyz001\", then your assignment 1 notebook should be named \"xyz001_assignment_1.ipynb\".\n",
    "<p>2. Upload your saved Jupyter notebook \".ipynb\" file onto cougar courses. If you have files linked to inside the notebook, e.g. images and data files, you should submit a zip file containing the notebook and all other relevant files. </font>\n"
   ]
  }
 ],
 "metadata": {
  "kernelspec": {
   "display_name": "Python 3",
   "language": "python",
   "name": "python3"
  },
  "language_info": {
   "codemirror_mode": {
    "name": "ipython",
    "version": 3
   },
   "file_extension": ".py",
   "mimetype": "text/x-python",
   "name": "python",
   "nbconvert_exporter": "python",
   "pygments_lexer": "ipython3",
   "version": "3.7.6"
  }
 },
 "nbformat": 4,
 "nbformat_minor": 2
}
