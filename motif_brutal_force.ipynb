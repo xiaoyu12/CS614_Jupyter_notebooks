{
 "cells": [
  {
   "cell_type": "markdown",
   "metadata": {},
   "source": [
    "# Brutal force method to search for motifs\n"
   ]
  },
  {
   "cell_type": "markdown",
   "metadata": {},
   "source": [
    "## Use python itertools"
   ]
  },
  {
   "cell_type": "code",
   "execution_count": 5,
   "metadata": {
    "tags": []
   },
   "outputs": [
    {
     "name": "stdout",
     "output_type": "stream",
     "text": [
      "itertools: 3 loops over 2 things\n",
      "(0, 0, 0) 0\n",
      "(0, 0, 1) 1\n",
      "(0, 1, 0) 2\n",
      "(0, 1, 1) 3\n",
      "(1, 0, 0) 4\n",
      "(1, 0, 1) 5\n",
      "(1, 1, 0) 6\n",
      "(1, 1, 1) 7\n",
      "\n",
      "itertools: 2 loops over 3 things\n",
      "(0, 0)\n",
      "(0, 1)\n",
      "(0, 2)\n",
      "(1, 0)\n",
      "(1, 1)\n",
      "(1, 2)\n",
      "(2, 0)\n",
      "(2, 1)\n",
      "(2, 2)\n",
      "\n",
      "itertools: permutations of mixed types\n",
      "('I', 'A', 1)\n",
      "('I', 'A', 2)\n",
      "('I', 'B', 1)\n",
      "('I', 'B', 2)\n",
      "('I', 'C', 1)\n",
      "('I', 'C', 2)\n",
      "('II', 'A', 1)\n",
      "('II', 'A', 2)\n",
      "('II', 'B', 1)\n",
      "('II', 'B', 2)\n",
      "('II', 'C', 1)\n",
      "('II', 'C', 2)\n",
      "('III', 'A', 1)\n",
      "('III', 'A', 2)\n",
      "('III', 'B', 1)\n",
      "('III', 'B', 2)\n",
      "('III', 'C', 1)\n",
      "('III', 'C', 2)\n",
      "('IV', 'A', 1)\n",
      "('IV', 'A', 2)\n",
      "('IV', 'B', 1)\n",
      "('IV', 'B', 2)\n",
      "('IV', 'C', 1)\n",
      "('IV', 'C', 2)\n"
     ]
    }
   ],
   "source": [
    "import itertools\n",
    "\n",
    "print(\"itertools: 3 loops over 2 things\")\n",
    "for number in itertools.product(range(2), repeat=3):\n",
    "    print(number, sum(2**(len(number)-i-1)*bit for i, bit in enumerate(number)))\n",
    "\n",
    "print(\"\\nitertools: 2 loops over 3 things\")\n",
    "for number in itertools.product(range(3), repeat=2):\n",
    "    print(number)\n",
    "\n",
    "print(\"\\nitertools: permutations of mixed types\")\n",
    "for section in itertools.product((\"I\", \"II\", \"III\", \"IV\"),\"ABC\",range(1,3)):\n",
    "    print(section)"
   ]
  },
  {
   "cell_type": "markdown",
   "metadata": {},
   "source": [
    "# Bruteforce exact motif search"
   ]
  },
  {
   "cell_type": "code",
   "execution_count": 3,
   "metadata": {},
   "outputs": [],
   "source": [
    "sequences = [\n",
    "    'tagtggtcttttgagtgtagatccgaagggaaagtatttccaccagttcggggtcacccagcagggcagggtgacttaat',\n",
    "    'cgcgactcggcgctcacagttatcgcacgtttagaccaaaacggagttagatccgaaactggagtttaatcggagtcctt',\n",
    "    'gttacttgtgagcctggttagatccgaaatataattgttggctgcatagcggagctgacatacgagtaggggaaatgcgt',\n",
    "    'aacatcaggctttgattaaacaatttaagcacgtagatccgaattgacctgatgacaatacggaacatgccggctccggg',\n",
    "    'accaccggataggctgcttattagatccgaaaggtagtatcgtaataatggctcagccatgtcaatgtgcggcattccac',\n",
    "    'tagatccgaatcgatcgtgtttctccctctgtgggttaacgaggggtccgaccttgctcgcatgtgccgaacttgtaccc',\n",
    "    'gaaatggttcggtgcgatatcaggccgttctcttaacttggcggtgtagatccgaacgtctctggaggggtcgtgcgcta',\n",
    "    'atgtatactagacattctaacgctcgcttattggcggagaccatttgctccactacaagaggctactgtgtagatccgaa',\n",
    "    'ttcttacacccttctttagatccgaacctgttggcgccatcttcttttcgagtccttgtacctccatttgctctgatgac',\n",
    "    'ctacctatgtaaaacaacatctactaacgtagtccggtctttcctgatctgccctaacctacaggtagatccgaaattcg']\n",
    "\n",
    "def bruteForce(dna,k):\n",
    "    \"\"\"Finds a *k*-mer common to all sequences from a\n",
    "       list of *dna* fragments with the same length\"\"\"\n",
    "    M = len(dna)     # how many sequences\n",
    "    N = len(dna[0])  # length of sequences\n",
    "    for offset in itertools.product(range(N-k+1), repeat=M):    # iterate all possible combination of k-mers in M sequences\n",
    "        for i in range(1,len(offset)):\n",
    "            if dna[0][offset[0]:offset[0]+k] != dna[i][offset[i]:offset[i]+k]:\n",
    "                break\n",
    "        else:\n",
    "            return offset, dna[0][offset[0]:offset[0]+10]"
   ]
  },
  {
   "cell_type": "code",
   "execution_count": 5,
   "metadata": {
    "tags": []
   },
   "outputs": [
    {
     "name": "stdout",
     "output_type": "stream",
     "text": [
      "(17, 47, 18, 33) tagatccgaa \n",
      "\n",
      "tagtggtcttttgagtgTAGATCCGAAgggaaagtatttccaccagttcggggtcacccagcagggcagggtgacttaat\n",
      "cgcgactcggcgctcacagttatcgcacgtttagaccaaaacggagtTAGATCCGAAactggagtttaatcggagtcctt\n",
      "gttacttgtgagcctggtTAGATCCGAAatataattgttggctgcatagcggagctgacatacgagtaggggaaatgcgt\n",
      "aacatcaggctttgattaaacaatttaagcacgTAGATCCGAAttgacctgatgacaatacggaacatgccggctccggg\n",
      "\n",
      "Wall time: 5.07 s\n"
     ]
    },
    {
     "data": {
      "text/plain": [
       "((17, 47, 18, 33), 'tagatccgaa')"
      ]
     },
     "execution_count": 5,
     "metadata": {},
     "output_type": "execute_result"
    }
   ],
   "source": [
    "# consider the first M sequences \n",
    "# you can try a larger value of M, but be prepared to wait\n",
    "M = 4       \n",
    "position, motif = bruteForce(sequences[0:M], 10)\n",
    "print(position, motif, '\\n')\n",
    "\n",
    "for i in range(M):\n",
    "    p = position[i]\n",
    "    print(sequences[i][:p]+sequences[i][p:p+10].upper()+sequences[i][p+10:])\n",
    "print()\n",
    "\n",
    "%time bruteForce(sequences[0:M], 10)"
   ]
  },
  {
   "cell_type": "markdown",
   "metadata": {},
   "source": [
    "# Let's try again allowing for errors\n",
    "Find a set of k-mers that maximize the consensus score."
   ]
  },
  {
   "cell_type": "code",
   "execution_count": 1,
   "metadata": {},
   "outputs": [],
   "source": [
    "def Score(s, DNA, k):\n",
    "    \"\"\" \n",
    "        compute the consensus SCORE of a given k-mer alignment given \n",
    "        offsets into each DNA string. s = list of starting indices.\n",
    "        DNA = list of nucleotide strings. k = Target Motif length\n",
    "    \"\"\"\n",
    "    score = 0\n",
    "    for i in range(k):\n",
    "        # loop over string positions\n",
    "        cnt = dict(zip(\"acgt\",(0,0,0,0)))\n",
    "        for j, sval in enumerate(s):\n",
    "            base = DNA[j][sval+i] \n",
    "            cnt[base] += 1\n",
    "        score += max(cnt.values())\n",
    "    return score\n",
    "\n",
    "def BruteForceMotifSearch(dna,k):\n",
    "    M = len(dna)     # how many sequences\n",
    "    N = len(dna[0])  # length of sequences\n",
    "    bestScore = 0\n",
    "    bestAlignment = []\n",
    "    for offset in itertools.product(range(N-k+1), repeat=M):\n",
    "        s = Score(offset,dna,k)\n",
    "        if (s > bestScore):\n",
    "            bestAlignment = [p for p in offset]\n",
    "            bestScore = s\n",
    "    print(\"best motif start positions:\", bestAlignment, bestScore)\n",
    "    for i in range(len(bestAlignment)):\n",
    "        print(dna[i][bestAlignment[i]:bestAlignment[i]+k])"
   ]
  },
  {
   "cell_type": "code",
   "execution_count": 3,
   "metadata": {
    "tags": []
   },
   "outputs": [
    {
     "name": "stdout",
     "output_type": "stream",
     "text": [
      "19.6 µs ± 78.2 ns per loop (mean ± std. dev. of 7 runs, 100000 loops each)\n"
     ]
    },
    {
     "ename": "NameError",
     "evalue": "name 'itertools' is not defined",
     "output_type": "error",
     "traceback": [
      "\u001b[1;31m---------------------------------------------------------------------------\u001b[0m",
      "\u001b[1;31mNameError\u001b[0m                                 Traceback (most recent call last)",
      "\u001b[1;32m<timed eval>\u001b[0m in \u001b[0;36m<module>\u001b[1;34m\u001b[0m\n",
      "\u001b[1;32m<ipython-input-1-797226da9edc>\u001b[0m in \u001b[0;36mBruteForceMotifSearch\u001b[1;34m(dna, k)\u001b[0m\n\u001b[0;32m     20\u001b[0m     \u001b[0mbestScore\u001b[0m \u001b[1;33m=\u001b[0m \u001b[1;36m0\u001b[0m\u001b[1;33m\u001b[0m\u001b[1;33m\u001b[0m\u001b[0m\n\u001b[0;32m     21\u001b[0m     \u001b[0mbestAlignment\u001b[0m \u001b[1;33m=\u001b[0m \u001b[1;33m[\u001b[0m\u001b[1;33m]\u001b[0m\u001b[1;33m\u001b[0m\u001b[1;33m\u001b[0m\u001b[0m\n\u001b[1;32m---> 22\u001b[1;33m     \u001b[1;32mfor\u001b[0m \u001b[0moffset\u001b[0m \u001b[1;32min\u001b[0m \u001b[0mitertools\u001b[0m\u001b[1;33m.\u001b[0m\u001b[0mproduct\u001b[0m\u001b[1;33m(\u001b[0m\u001b[0mrange\u001b[0m\u001b[1;33m(\u001b[0m\u001b[0mN\u001b[0m\u001b[1;33m-\u001b[0m\u001b[0mk\u001b[0m\u001b[1;33m+\u001b[0m\u001b[1;36m1\u001b[0m\u001b[1;33m)\u001b[0m\u001b[1;33m,\u001b[0m \u001b[0mrepeat\u001b[0m\u001b[1;33m=\u001b[0m\u001b[0mM\u001b[0m\u001b[1;33m)\u001b[0m\u001b[1;33m:\u001b[0m\u001b[1;33m\u001b[0m\u001b[1;33m\u001b[0m\u001b[0m\n\u001b[0m\u001b[0;32m     23\u001b[0m         \u001b[0ms\u001b[0m \u001b[1;33m=\u001b[0m \u001b[0mScore\u001b[0m\u001b[1;33m(\u001b[0m\u001b[0moffset\u001b[0m\u001b[1;33m,\u001b[0m\u001b[0mdna\u001b[0m\u001b[1;33m,\u001b[0m\u001b[0mk\u001b[0m\u001b[1;33m)\u001b[0m\u001b[1;33m\u001b[0m\u001b[1;33m\u001b[0m\u001b[0m\n\u001b[0;32m     24\u001b[0m         \u001b[1;32mif\u001b[0m \u001b[1;33m(\u001b[0m\u001b[0ms\u001b[0m \u001b[1;33m>\u001b[0m \u001b[0mbestScore\u001b[0m\u001b[1;33m)\u001b[0m\u001b[1;33m:\u001b[0m\u001b[1;33m\u001b[0m\u001b[1;33m\u001b[0m\u001b[0m\n",
      "\u001b[1;31mNameError\u001b[0m: name 'itertools' is not defined"
     ]
    }
   ],
   "source": [
    "seqApprox = [\n",
    "    'tagtggtcttttgagtgtagatctgaagggaaagtatttccaccagttcggggtcacccagcagggcagggtgacttaat',\n",
    "    'cgcgactcggcgctcacagttatcgcacgtttagaccaaaacggagttggatccgaaactggagtttaatcggagtcctt',\n",
    "    'gttacttgtgagcctggttagacccgaaatataattgttggctgcatagcggagctgacatacgagtaggggaaatgcgt',\n",
    "    'aacatcaggctttgattaaacaatttaagcacgtaaatccgaattgacctgatgacaatacggaacatgccggctccggg',\n",
    "    'accaccggataggctgcttattaggtccaaaaggtagtatcgtaataatggctcagccatgtcaatgtgcggcattccac',\n",
    "    'tagattcgaatcgatcgtgtttctccctctgtgggttaacgaggggtccgaccttgctcgcatgtgccgaacttgtaccc',\n",
    "    'gaaatggttcggtgcgatatcaggccgttctcttaacttggcggtgcagatccgaacgtctctggaggggtcgtgcgcta',\n",
    "    'atgtatactagacattctaacgctcgcttattggcggagaccatttgctccactacaagaggctactgtgtagatccgta',\n",
    "    'ttcttacacccttctttagatccaaacctgttggcgccatcttcttttcgagtccttgtacctccatttgctctgatgac',\n",
    "    'ctacctatgtaaaacaacatctactaacgtagtccggtctttcctgatctgccctaacctacaggtcgatccgaaattcg']\n",
    "\n",
    "%timeit Score([17, 47, 18, 33, 21, 0, 46, 70, 16, 65], seqApprox, 10)\n",
    "%time BruteForceMotifSearch(seqApprox[0:3], 10)"
   ]
  },
  {
   "cell_type": "markdown",
   "metadata": {},
   "source": [
    "## Branch and Bound Motif Search\n",
    "It takes too long to search all possible starting positions of k-mers. We can prune parts of the search tree if the most optimistic remaining positions cannot beat the current best score. "
   ]
  },
  {
   "cell_type": "code",
   "execution_count": 6,
   "metadata": {
    "tags": []
   },
   "outputs": [
    {
     "name": "stdout",
     "output_type": "stream",
     "text": [
      "4781 paths were pruned\n",
      "best motif start positions:  [17, 47, 18] 27\n",
      "tagatctgaa\n",
      "tggatccgaa\n",
      "tagacccgaa\n",
      "Wall time: 309 ms\n"
     ]
    }
   ],
   "source": [
    "bestAlignment = []\n",
    "prunedPaths = 0\n",
    "\n",
    "# Recursive Exploration of a Search Tree\n",
    "def exploreMotifs(DNA,k,path,bestScore):\n",
    "    \"\"\" Search for a k-length motif in the list of DNA sequences by exploring\n",
    "        all paths in a search tree. Each call extends path by one. Once the\n",
    "        path reaches the number of DNA strings a score is computed. \"\"\"\n",
    "    global bestAlignment, prunedPaths\n",
    "    depth = len(path)\n",
    "    M = len(DNA)\n",
    "    if (depth == M):            # here we have an index in all M sequences\n",
    "        s = Score(path,DNA,k)\n",
    "        if (s > bestScore):\n",
    "            bestAlignment = [p for p in path]\n",
    "            return s\n",
    "        else:\n",
    "            return bestScore\n",
    "    else:\n",
    "        # Let's consider if an optimistic best score can beat the best score so far\n",
    "        if (depth > 1):\n",
    "            OptimisticScore = k*(M-depth) + Score(path,DNA,k)\n",
    "        else:\n",
    "            OptimisticScore = k*M\n",
    "        if (OptimisticScore < bestScore):\n",
    "            prunedPaths = prunedPaths + 1\n",
    "            return bestScore\n",
    "        else:\n",
    "            for s in range(len(DNA[depth])-k+1):\n",
    "                newPath = tuple([i for i in path] + [s])\n",
    "                bestScore = exploreMotifs(DNA,k,newPath,bestScore)\n",
    "            return bestScore\n",
    "\n",
    "def BranchAndBoundMotifSearch(DNA, k):\n",
    "    \"\"\" Finds a k-length motif within a list of DNA sequences\"\"\"\n",
    "    global bestAlignment, prunedPaths\n",
    "    bestAlignment = []\n",
    "    prunedPaths = 0\n",
    "    bestScore = 0\n",
    "    bestScore = exploreMotifs(DNA,k,[],bestScore)\n",
    "    print(f\"{prunedPaths} paths were pruned\")\n",
    "    print(\"best motif start positions: \", bestAlignment, bestScore)\n",
    "    for i in range(len(bestAlignment)):\n",
    "        print(DNA[i][bestAlignment[i]:bestAlignment[i]+k])\n",
    "\n",
    "%time BranchAndBoundMotifSearch(seqApprox[0:3], 10)\n",
    "    "
   ]
  },
  {
   "cell_type": "code",
   "execution_count": 15,
   "metadata": {},
   "outputs": [
    {
     "name": "stdout",
     "output_type": "stream",
     "text": [
      "['gaactcatggtg', 'aaaagcacggtc', 'tcaaagcaaggc', 'cctaatcagggc', 'aagtatggactc', 'actaagcagggt', 'tctcacggccca', 'cctcgtggtggg', 'taccgtatggtt', 'accactcgtcga']\n",
      "208659 paths were pruned\n",
      "best motif start positions:  [2, 2, 3, 3, 0, 3, 0, 0, 2, 3] 57\n",
      "actcatgg\n",
      "aagcacgg\n",
      "aagcaagg\n",
      "aatcaggg\n",
      "aagtatgg\n",
      "aagcaggg\n",
      "tctcacgg\n",
      "cctcgtgg\n",
      "ccgtatgg\n",
      "actcgtcg\n",
      "Wall time: 4.51 s\n"
     ]
    }
   ],
   "source": [
    "seqs = [s.lower() for s in [\"GAACTCATGGTG\",\n",
    "\"AAAAGCACGGTC\",\n",
    "\"TCAAAGCAAGGC\",\n",
    "\"CCTAATCAGGGC\",\n",
    "\"AAGTATGGACTC\",\n",
    "\"ACTAAGCAGGGT\",\n",
    "\"TCTCACGGCCCA\",\n",
    "\"CCTCGTGGTGGG\",\n",
    "\"TACCGTATGGTT\",\n",
    "\"ACCACTCGTCGA\"]]\n",
    "\n",
    "print(seqs)\n",
    "%time BranchAndBoundMotifSearch(seqs, 8)"
   ]
  },
  {
   "cell_type": "code",
   "execution_count": null,
   "metadata": {},
   "outputs": [],
   "source": []
  }
 ],
 "metadata": {
  "kernelspec": {
   "display_name": "Python 3",
   "language": "python",
   "name": "python3"
  },
  "language_info": {
   "codemirror_mode": {
    "name": "ipython",
    "version": 3
   },
   "file_extension": ".py",
   "mimetype": "text/x-python",
   "name": "python",
   "nbconvert_exporter": "python",
   "pygments_lexer": "ipython3",
   "version": "3.7.6"
  }
 },
 "nbformat": 4,
 "nbformat_minor": 2
}
