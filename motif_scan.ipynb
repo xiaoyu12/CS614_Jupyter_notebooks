{
 "cells": [
  {
   "cell_type": "markdown",
   "metadata": {},
   "source": [
    "# Search Motifs by scanning \n"
   ]
  },
  {
   "cell_type": "markdown",
   "metadata": {},
   "source": [
    "## Scanning-and-Scoring a Motif\n",
    "Given a possible motif, we find its best match in each sequence."
   ]
  },
  {
   "cell_type": "code",
   "execution_count": 1,
   "metadata": {},
   "outputs": [],
   "source": [
    "def ScanAndScoreMotif(DNA, motif):\n",
    "    \"\"\" Given a list of sequences in DNA and a motif,\n",
    "    find the best alignments of the motif in all sequences\n",
    "    and compute the total Hamming distances\"\"\"\n",
    "    totalDist = 0\n",
    "    bestAlignment = []\n",
    "    k = len(motif)\n",
    "    for seq in DNA:\n",
    "        minHammingDist = k+1\n",
    "        for s in range(len(seq)-k+1):\n",
    "            HammingDist = sum([1 for i in range(k) if motif[i] != seq[s+i]])\n",
    "            if (HammingDist < minHammingDist):\n",
    "                bestS = s\n",
    "                minHammingDist = HammingDist\n",
    "        bestAlignment.append(bestS)\n",
    "        totalDist += minHammingDist\n",
    "    return bestAlignment, totalDist"
   ]
  },
  {
   "cell_type": "code",
   "execution_count": 2,
   "metadata": {
    "tags": []
   },
   "outputs": [
    {
     "name": "stdout",
     "output_type": "stream",
     "text": [
      "Wall time: 4 ms\n",
      "[17, 47, 18, 33, 21, 0, 46, 70, 16, 65] 11\n",
      "tagatctgaa\n",
      "tggatccgaa\n",
      "tagacccgaa\n",
      "taaatccgaa\n",
      "taggtccaaa\n",
      "tagattcgaa\n",
      "cagatccgaa\n",
      "tagatccgta\n",
      "tagatccaaa\n",
      "tcgatccgaa\n",
      "Wall time: 2 ms\n",
      "[17, 47, 18, 33, 21, 0, 46, 70, 16, 65] 11\n",
      "tagatctgaa\n",
      "tggatccgaa\n",
      "tagacccgaa\n",
      "taaatccgaa\n",
      "taggtccaaa\n",
      "tagattcgaa\n",
      "cagatccgaa\n",
      "tagatccgta\n",
      "tagatccaaa\n",
      "tcgatccgaa\n"
     ]
    }
   ],
   "source": [
    "seqApprox = [\n",
    "    'tagtggtcttttgagtgtagatctgaagggaaagtatttccaccagttcggggtcacccagcagggcagggtgacttaat',\n",
    "    'cgcgactcggcgctcacagttatcgcacgtttagaccaaaacggagttggatccgaaactggagtttaatcggagtcctt',\n",
    "    'gttacttgtgagcctggttagacccgaaatataattgttggctgcatagcggagctgacatacgagtaggggaaatgcgt',\n",
    "    'aacatcaggctttgattaaacaatttaagcacgtaaatccgaattgacctgatgacaatacggaacatgccggctccggg',\n",
    "    'accaccggataggctgcttattaggtccaaaaggtagtatcgtaataatggctcagccatgtcaatgtgcggcattccac',\n",
    "    'tagattcgaatcgatcgtgtttctccctctgtgggttaacgaggggtccgaccttgctcgcatgtgccgaacttgtaccc',\n",
    "    'gaaatggttcggtgcgatatcaggccgttctcttaacttggcggtgcagatccgaacgtctctggaggggtcgtgcgcta',\n",
    "    'atgtatactagacattctaacgctcgcttattggcggagaccatttgctccactacaagaggctactgtgtagatccgta',\n",
    "    'ttcttacacccttctttagatccaaacctgttggcgccatcttcttttcgagtccttgtacctccatttgctctgatgac',\n",
    "    'ctacctatgtaaaacaacatctactaacgtagtccggtctttcctgatctgccctaacctacaggtcgatccgaaattcg']\n",
    "\n",
    "%time (bestAlignment, totalDist) = ScanAndScoreMotif(seqApprox, \"tagatccgaa\")\n",
    "print(bestAlignment, totalDist)\n",
    "k = len(\"tagatccgaa\")\n",
    "for i in range(len(bestAlignment)):\n",
    "        print(seqApprox[i][bestAlignment[i]:bestAlignment[i]+k])"
   ]
  },
  {
   "cell_type": "markdown",
   "metadata": {},
   "source": [
    "## Scan all possible k-mer motifs to find the best one\n",
    "How many motifs are to be scanned?"
   ]
  },
  {
   "cell_type": "code",
   "execution_count": 3,
   "metadata": {},
   "outputs": [
    {
     "name": "stdout",
     "output_type": "stream",
     "text": [
      "Wall time: 1min 55s\n"
     ]
    },
    {
     "data": {
      "text/plain": [
       "([19, 49, 20, 35, 23, 2, 48, 72, 18, 67], 8, 'gatccgaa')"
      ]
     },
     "execution_count": 3,
     "metadata": {},
     "output_type": "execute_result"
    }
   ],
   "source": [
    "import itertools\n",
    "\n",
    "def MedianStringMotifSearch(DNA,k):\n",
    "    \"\"\" Consider all possible 4**k motifs\"\"\"\n",
    "    bestAlignment = []\n",
    "    minHammingDist = k*len(DNA)\n",
    "    kmer = ''\n",
    "    for pattern in itertools.product('acgt', repeat=k):\n",
    "        motif = ''.join(pattern)\n",
    "        align, dist = ScanAndScoreMotif(DNA, motif)\n",
    "        if (dist < minHammingDist):\n",
    "            bestAlignment = [p for p in align]\n",
    "            minHammingDist = dist\n",
    "            kmer = motif\n",
    "    return bestAlignment, minHammingDist, kmer\n",
    "\n",
    "%time MedianStringMotifSearch(seqApprox,8)"
   ]
  },
  {
   "cell_type": "markdown",
   "metadata": {},
   "source": [
    "## Let's consider only Motifs seen in the DNA\n",
    "Are we guaranteed to get the best motif?"
   ]
  },
  {
   "cell_type": "code",
   "execution_count": 5,
   "metadata": {},
   "outputs": [
    {
     "name": "stdout",
     "output_type": "stream",
     "text": [
      "718 Motifs in our set\n",
      "Wall time: 1.34 s\n",
      "[19, 49, 20, 35, 23, 2, 48, 72, 18, 67] 8 gatccgaa\n",
      "gatctgaa\n",
      "gatccgaa\n",
      "gacccgaa\n",
      "aatccgaa\n",
      "ggtccaaa\n",
      "gattcgaa\n",
      "gatccgaa\n",
      "gatccgta\n",
      "gatccaaa\n",
      "gatccgaa\n"
     ]
    }
   ],
   "source": [
    "def ContainedMotifSearch(DNA,k):\n",
    "    \"\"\" Consider only motifs from the given DNA sequences\"\"\"\n",
    "    motifSet = set()\n",
    "    for seq in DNA:\n",
    "        for i in range(len(seq)-k+1):\n",
    "            motifSet.add(seq[i:i+k])\n",
    "    print(\"%d Motifs in our set\" % len(motifSet))\n",
    "    bestAlignment = []\n",
    "    minHammingDist = k*len(DNA)\n",
    "    kmer = ''\n",
    "    for motif in motifSet:\n",
    "        align, dist = ScanAndScoreMotif(DNA, motif)\n",
    "        if (dist < minHammingDist):\n",
    "            bestAlignment = [s for s in align]\n",
    "            minHammingDist = dist\n",
    "            kmer = motif\n",
    "    return bestAlignment, minHammingDist, kmer\n",
    "\n",
    "k = 8\n",
    "%time bestAlignment, minDist, kmer = ContainedMotifSearch(seqApprox, k)\n",
    "print(bestAlignment, minDist, kmer)\n",
    "for i in range(len(bestAlignment)):\n",
    "        print(seqApprox[i][bestAlignment[i]:bestAlignment[i]+k])"
   ]
  },
  {
   "cell_type": "markdown",
   "metadata": {},
   "source": [
    "## Contained Consensus Motif Search\n",
    "Note if we only consider kmers in the DNA, the best kmer isn't necessarily the consensus of the alignment. \n",
    "\n",
    "The following functions gets the consensus motif and profile given an alignment. It also computes the likelyhood of k-mer given a profile. "
   ]
  },
  {
   "cell_type": "code",
   "execution_count": 9,
   "metadata": {},
   "outputs": [
    {
     "name": "stdout",
     "output_type": "stream",
     "text": [
      "709 Motifs in our set\n",
      "Wall time: 1.59 s\n",
      "tagatccgaa\n",
      "[17, 47, 18, 33, 21, 0, 46, 70, 16, 65] 11\n",
      "[[0.  0.8 0.1 0.9 0.  0.  0.  0.2 0.9 1. ]\n",
      " [0.1 0.1 0.  0.  0.1 0.9 0.9 0.  0.  0. ]\n",
      " [0.  0.1 0.9 0.1 0.  0.  0.  0.8 0.  0. ]\n",
      " [0.9 0.  0.  0.  0.9 0.1 0.1 0.  0.1 0. ]]\n",
      "0.30611001600000015\n",
      "[17, 47, 18, 33, 21, 0, 46, 70, 16, 65]\n"
     ]
    }
   ],
   "source": [
    "import numpy as np\n",
    "\n",
    "def Consensus(s, DNA, k):\n",
    "    \"\"\" compute the consensus k-Motif of an alignment given offsets into each DNA string.\n",
    "            s = list of starting indices, 1-based, 0 means ignore, DNA = list of nucleotide strings,\n",
    "            k = Target Motif length \"\"\"\n",
    "    consensus = ''\n",
    "    for i in range(k):\n",
    "        # loop over string positions\n",
    "        cnt = dict(zip(\"acgt\",(0,0,0,0)))\n",
    "        for j, sval in enumerate(s):\n",
    "            # loop over DNA strands\n",
    "            base = DNA[j][sval+i] \n",
    "            cnt[base] += 1\n",
    "        consensus += max(cnt.items(), key=lambda tup: tup[1])[0]\n",
    "    return consensus\n",
    "\n",
    "def Profile(s, DNA, k):\n",
    "    \"\"\" Compute the profile of k-mer motifs in a DNA string \n",
    "        s = list of starting indices, 1-based, 0 means ignore, DNA = list of nucleotide strings,\n",
    "        k = Target Motif length\"\"\"\n",
    "    profile = np.zeros((4, k))\n",
    "    for i in range(k):\n",
    "        # loop over string positions\n",
    "        cnt = dict(zip(\"acgt\",(0,0,0,0)))\n",
    "        for j, sval in enumerate(s):\n",
    "            # loop over DNA strands\n",
    "            base = DNA[j][sval+i] \n",
    "            cnt[base] += 1\n",
    "        profile[:, i] = np.fromiter(cnt.values(), dtype=float) / (float)(len(s))\n",
    "    return profile\n",
    "\n",
    "def LikelyhoodKmerProfile(kmer, profile):\n",
    "    \"\"\"Given a profile, compute the probability of a kmer string\"\"\"\n",
    "    # check that kmer length matches with profile length\n",
    "    assert len(kmer) == profile.shape[1]\n",
    "    prob = 1.0\n",
    "    idx = dict(zip(\"acgt\", (0, 1, 2, 3)))\n",
    "    for i in range(len(kmer)):\n",
    "        prob = prob * profile[idx[kmer[i]], i]\n",
    "    return prob\n",
    "\n",
    "def ScanAndScoreProfile(DNA, profile):\n",
    "    \"\"\" Given a list of sequences in DNA and a profile,\n",
    "    find the best alignments of the profile in all sequences\"\"\"\n",
    "    bestAlignment = []\n",
    "    k = profile.shape[1] \n",
    "    for seq in DNA:\n",
    "        maxProbProfile = 0\n",
    "        for s in range(len(seq)-k+1):\n",
    "            prob = LikelyhoodKmerProfile(seq[s:s+k], profile)\n",
    "            if (prob > maxProbProfile):\n",
    "                bestS = s\n",
    "                maxProbProfile = prob\n",
    "        bestAlignment.append(bestS)\n",
    "    return bestAlignment\n",
    "\n",
    "def ContainedConsensusMotifSearch(DNA,k):\n",
    "    bestAlignment, minHammingDist, kmer = ContainedMotifSearch(DNA,k)\n",
    "    motif = Consensus(bestAlignment,DNA,k)\n",
    "    newAlignment, HammingDist = ScanAndScoreMotif(DNA, motif)\n",
    "    return newAlignment, HammingDist, motif\n",
    "\n",
    "%time newAlignment, HammingDist, motif = ContainedConsensusMotifSearch(seqApprox,10)\n",
    "print(motif)\n",
    "print(newAlignment, HammingDist)\n",
    "profile = Profile(newAlignment, seqApprox, 10)\n",
    "print(profile)\n",
    "print(LikelyhoodKmerProfile(motif, profile))\n",
    "bestProfileAlignment = ScanAndScoreProfile(seqApprox, profile)\n",
    "print(bestProfileAlignment)"
   ]
  },
  {
   "cell_type": "markdown",
   "metadata": {},
   "source": [
    "## Randomized Motif Search\n",
    "Searches for a k-length motif that appears in all given DNA sequences. It begins with a random set of candidate consensus motifs derived from the data. It refines the motif until a true consensus emerges."
   ]
  },
  {
   "cell_type": "code",
   "execution_count": 12,
   "metadata": {},
   "outputs": [],
   "source": [
    "import random\n",
    "\n",
    "def RandomizedMotifSearch(DNA,k):\n",
    "    \"\"\" Searches for a k-length motif that appears \n",
    "    in all given DNA sequences. It begins with a\n",
    "    random set of candidate consensus motifs \n",
    "    derived from the data. It refines the motif\n",
    "    until a true consensus emerges.\"\"\"\n",
    "    \n",
    "    # Seed with motifs from random alignments\n",
    "    motifSet = set()\n",
    "    for i in range(500):\n",
    "        randomAlignment = [random.randint(0,len(DNA[j])-k) for j in range(len(DNA))]\n",
    "        motif = Consensus(randomAlignment, DNA, k)\n",
    "        motifSet.add(motif)\n",
    "\n",
    "    bestAlignment = []\n",
    "    minHammingDist = k*len(DNA)\n",
    "    kmer = ''\n",
    "    testSet = motifSet.copy()\n",
    "    while (len(testSet) > 0):\n",
    "        print(len(motifSet),end=', ')\n",
    "        nextSet = set()\n",
    "        for motif in testSet:\n",
    "            align, dist = ScanAndScoreMotif(DNA, motif)\n",
    "            # add new motifs based on these alignments\n",
    "            newMotif = Consensus(align, DNA, k)\n",
    "            if (newMotif not in motifSet):\n",
    "                nextSet.add(newMotif)\n",
    "            if (dist < minHammingDist):\n",
    "                bestAlignment = [s for s in align]\n",
    "                minHammingDist = dist\n",
    "                kmer = motif\n",
    "        testSet = nextSet.copy()\n",
    "        motifSet = motifSet | nextSet\n",
    "    return bestAlignment, minHammingDist, kmer"
   ]
  },
  {
   "cell_type": "markdown",
   "metadata": {},
   "source": [
    "## Let's try it"
   ]
  },
  {
   "cell_type": "code",
   "execution_count": 15,
   "metadata": {},
   "outputs": [
    {
     "name": "stdout",
     "output_type": "stream",
     "text": [
      "499, 740, 819, 830, 831, Wall time: 779 ms\n",
      "[[0.  0.8 0.1 0.9 0.  0.  0.  0.2 0.9 1. ]\n",
      " [0.1 0.1 0.  0.  0.1 0.9 0.9 0.  0.  0. ]\n",
      " [0.  0.1 0.9 0.1 0.  0.  0.  0.8 0.  0. ]\n",
      " [0.9 0.  0.  0.  0.9 0.1 0.1 0.  0.1 0. ]]\n",
      "tagatccgaa\n"
     ]
    }
   ],
   "source": [
    "%time bestAlignment, minDist, kmer = RandomizedMotifSearch(seqApprox,10)\n",
    "print(Profile(bestAlignment, seqApprox, 10))\n",
    "print(Consensus(bestAlignment, seqApprox, 10))"
   ]
  },
  {
   "cell_type": "code",
   "execution_count": 58,
   "metadata": {},
   "outputs": [
    {
     "name": "stdout",
     "output_type": "stream",
     "text": [
      "499, 774, 861, 876, 878, ([17, 47, 18, 33, 21, 0, 46, 70, 16, 65], 11, 'tagatccgaa')\n",
      "500, 768, 843, 863, 869, ([17, 47, 18, 33, 21, 0, 46, 70, 16, 65], 11, 'tagatccgaa')\n",
      "500, 743, 823, 843, 845, ([17, 47, 18, 33, 21, 0, 46, 70, 16, 65], 11, 'tagatccgaa')\n",
      "500, 756, 832, 844, 845, ([17, 47, 18, 33, 21, 0, 46, 70, 16, 65], 11, 'tagatccgaa')\n",
      "500, 745, 826, 844, 850, ([17, 47, 18, 33, 21, 0, 46, 70, 16, 65], 11, 'tagatccgaa')\n",
      "500, 776, 852, 870, 873, 874, ([17, 47, 18, 33, 21, 0, 46, 70, 16, 65], 11, 'tagatccgaa')\n",
      "500, 762, 857, 878, 880, ([17, 47, 18, 33, 21, 0, 46, 70, 16, 65], 11, 'tagatccgaa')\n",
      "500, 753, 822, 839, 844, 845, ([17, 47, 18, 33, 21, 0, 46, 70, 16, 65], 11, 'tagatccgaa')\n",
      "500, 764, 845, 865, 867, 868, ([17, 47, 18, 33, 21, 0, 46, 70, 16, 65], 11, 'tagatccgaa')\n",
      "500, 749, 825, 839, 841, ([17, 47, 18, 33, 21, 0, 46, 70, 16, 65], 11, 'tagatccgaa')\n"
     ]
    }
   ],
   "source": [
    "for i in range(10):\n",
    "    print(RandomizedMotifSearch(seqApprox,10))"
   ]
  },
  {
   "cell_type": "code",
   "execution_count": null,
   "metadata": {},
   "outputs": [],
   "source": []
  }
 ],
 "metadata": {
  "kernelspec": {
   "display_name": "Python 3",
   "language": "python",
   "name": "python3"
  },
  "language_info": {
   "codemirror_mode": {
    "name": "ipython",
    "version": 3
   },
   "file_extension": ".py",
   "mimetype": "text/x-python",
   "name": "python",
   "nbconvert_exporter": "python",
   "pygments_lexer": "ipython3",
   "version": "3.7.7"
  }
 },
 "nbformat": 4,
 "nbformat_minor": 2
}
