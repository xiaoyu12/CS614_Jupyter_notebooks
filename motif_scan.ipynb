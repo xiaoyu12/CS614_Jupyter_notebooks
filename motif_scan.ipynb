{
 "cells": [
  {
   "cell_type": "markdown",
   "metadata": {},
   "source": [
    "# Search Motifs by scanning \n"
   ]
  },
  {
   "cell_type": "markdown",
   "metadata": {},
   "source": [
    "## Scanning-and-Scoring a Motif\n",
    "Given a possible motif, we find its best match in each sequence."
   ]
  },
  {
   "cell_type": "code",
   "execution_count": 6,
   "metadata": {},
   "outputs": [],
   "source": [
    "def ScanAndScoreMotif(DNA, motif):\n",
    "    totalDist = 0\n",
    "    bestAlignment = []\n",
    "    k = len(motif)\n",
    "    for seq in DNA:\n",
    "        minHammingDist = k+1\n",
    "        for s in range(len(seq)-k+1):\n",
    "            HammingDist = sum([1 for i in range(k) if motif[i] != seq[s+i]])\n",
    "            if (HammingDist < minHammingDist):\n",
    "                bestS = s\n",
    "                minHammingDist = HammingDist\n",
    "        bestAlignment.append(bestS)\n",
    "        totalDist += minHammingDist\n",
    "    return bestAlignment, totalDist"
   ]
  },
  {
   "cell_type": "code",
   "execution_count": 13,
   "metadata": {
    "tags": []
   },
   "outputs": [
    {
     "output_type": "stream",
     "name": "stdout",
     "text": "Wall time: 2 ms\n[17, 47, 18, 33, 21, 0, 46, 70, 16, 65] 11\ntagatctgaa\ntggatccgaa\ntagacccgaa\ntaaatccgaa\ntaggtccaaa\ntagattcgaa\ncagatccgaa\ntagatccgta\ntagatccaaa\ntcgatccgaa\n"
    }
   ],
   "source": [
    "seqApprox = [\n",
    "    'tagtggtcttttgagtgtagatctgaagggaaagtatttccaccagttcggggtcacccagcagggcagggtgacttaat',\n",
    "    'cgcgactcggcgctcacagttatcgcacgtttagaccaaaacggagttggatccgaaactggagtttaatcggagtcctt',\n",
    "    'gttacttgtgagcctggttagacccgaaatataattgttggctgcatagcggagctgacatacgagtaggggaaatgcgt',\n",
    "    'aacatcaggctttgattaaacaatttaagcacgtaaatccgaattgacctgatgacaatacggaacatgccggctccggg',\n",
    "    'accaccggataggctgcttattaggtccaaaaggtagtatcgtaataatggctcagccatgtcaatgtgcggcattccac',\n",
    "    'tagattcgaatcgatcgtgtttctccctctgtgggttaacgaggggtccgaccttgctcgcatgtgccgaacttgtaccc',\n",
    "    'gaaatggttcggtgcgatatcaggccgttctcttaacttggcggtgcagatccgaacgtctctggaggggtcgtgcgcta',\n",
    "    'atgtatactagacattctaacgctcgcttattggcggagaccatttgctccactacaagaggctactgtgtagatccgta',\n",
    "    'ttcttacacccttctttagatccaaacctgttggcgccatcttcttttcgagtccttgtacctccatttgctctgatgac',\n",
    "    'ctacctatgtaaaacaacatctactaacgtagtccggtctttcctgatctgccctaacctacaggtcgatccgaaattcg']\n",
    "\n",
    "%time (bestAlignment, totalDist) = ScanAndScoreMotif(seqApprox, \"tagatccgaa\")\n",
    "print(bestAlignment, totalDist)\n",
    "k = len(\"tagatccgaa\")\n",
    "for i in range(len(bestAlignment)):\n",
    "        print(seqApprox[i][bestAlignment[i]:bestAlignment[i]+k])\n",
    "%time (bestAlignment, totalDist) = ScanAndScoreMotif(seqApprox, \"tagatccgaa\")\n",
    "print(bestAlignment, totalDist)\n",
    "k = len(\"tagatccgaa\")\n",
    "for i in range(len(bestAlignment)):\n",
    "        print(seqApprox[i][bestAlignment[i]:bestAlignment[i]+k])"
   ]
  },
  {
   "cell_type": "markdown",
   "metadata": {},
   "source": [
    "## Scan all possible k-mer motifs to find the best one\n",
    "How many motifs are to be scanned?"
   ]
  },
  {
   "cell_type": "code",
   "execution_count": null,
   "metadata": {},
   "outputs": [],
   "source": [
    "import itertools\n",
    "\n",
    "def MedianStringMotifSearch(DNA,k):\n",
    "    \"\"\" Consider all possible 4**k motifs\"\"\"\n",
    "    bestAlignment = []\n",
    "    minHammingDist = k*len(DNA)\n",
    "    kmer = ''\n",
    "    for pattern in itertools.product('acgt', repeat=k):\n",
    "        motif = ''.join(pattern)\n",
    "        align, dist = ScanAndScoreMotif(DNA, motif)\n",
    "        if (dist < minHammingDist):\n",
    "            bestAlignment = [p for p in align]\n",
    "            minHammingDist = dist\n",
    "            kmer = motif\n",
    "    return bestAlignment, minHammingDist, kmer\n",
    "\n",
    "%time MedianStringMotifSearch(seqApprox,10)"
   ]
  },
  {
   "cell_type": "markdown",
   "metadata": {},
   "source": [
    "## Let's consider only Motifs seen in the DNA\n",
    "Are we guaranteed to get the best motif?"
   ]
  },
  {
   "cell_type": "code",
   "execution_count": 39,
   "metadata": {},
   "outputs": [
    {
     "name": "stdout",
     "output_type": "stream",
     "text": [
      "709 Motifs in our set\n",
      "CPU times: user 771 ms, sys: 0 ns, total: 771 ms\n",
      "Wall time: 769 ms\n"
     ]
    },
    {
     "data": {
      "text/plain": [
       "([17, 31, 18, 33, 21, 0, 46, 70, 16, 65], 17, 'tagatccaaa')"
      ]
     },
     "execution_count": 39,
     "metadata": {},
     "output_type": "execute_result"
    }
   ],
   "source": [
    "def ContainedMotifSearch(DNA,k):\n",
    "    \"\"\" Consider only motifs from the given DNA sequences\"\"\"\n",
    "    motifSet = set()\n",
    "    for seq in DNA:\n",
    "        for i in range(len(seq)-k+1):\n",
    "            motifSet.add(seq[i:i+k])\n",
    "    print(\"%d Motifs in our set\" % len(motifSet))\n",
    "    bestAlignment = []\n",
    "    minHammingDist = k*len(DNA)\n",
    "    kmer = ''\n",
    "    for motif in motifSet:\n",
    "        align, dist = ScanAndScoreMotif(DNA, motif)\n",
    "        if (dist < minHammingDist):\n",
    "            bestAlignment = [s for s in align]\n",
    "            minHammingDist = dist\n",
    "            kmer = motif\n",
    "    return bestAlignment, minHammingDist, kmer\n",
    "\n",
    "k = 10\n",
    "%time bestAlignment, minDist, kmer = ContainedMotifSearch(seqApprox, k)\n",
    "print(bestAlignment, minDist, kmer)\n",
    "for i in range(len(bestAlignment)):\n",
    "        print(seqApprox[i][bestAlignment[i]:bestAlignment[i]+k])"
   ]
  },
  {
   "cell_type": "markdown",
   "metadata": {},
   "source": [
    "## Contained Consensus Motif Search\n",
    "Note if we only consider kmers in the DNA, the best kmer isn't necessarily the consensus of the alignment. The following function gets the consensus motif given an alignment."
   ]
  },
  {
   "cell_type": "code",
   "execution_count": 42,
   "metadata": {},
   "outputs": [
    {
     "name": "stdout",
     "output_type": "stream",
     "text": [
      "709 Motifs in our set\n",
      "CPU times: user 770 ms, sys: 0 ns, total: 770 ms\n",
      "Wall time: 767 ms\n"
     ]
    },
    {
     "data": {
      "text/plain": [
       "([17, 47, 18, 33, 21, 0, 46, 70, 16, 65], 11, 'tagatccgaa')"
      ]
     },
     "execution_count": 42,
     "metadata": {},
     "output_type": "execute_result"
    }
   ],
   "source": [
    "def Consensus(s, DNA, k):\n",
    "    \"\"\" compute the consensus k-Motif of an alignment given offsets into each DNA string.\n",
    "            s = list of starting indices, 1-based, 0 means ignore, DNA = list of nucleotide strings,\n",
    "            k = Target Motif length \"\"\"\n",
    "    consensus = ''\n",
    "    for i in range(k):\n",
    "        # loop over string positions\n",
    "        cnt = dict(zip(\"acgt\",(0,0,0,0)))\n",
    "        for j, sval in enumerate(s):\n",
    "            # loop over DNA strands\n",
    "            base = DNA[j][sval+i] \n",
    "            cnt[base] += 1\n",
    "        consensus += max(cnt.items(), key=lambda tup: tup[1])[0]\n",
    "    return consensus\n",
    "\n",
    "def ContainedConsensusMotifSearch(DNA,k):\n",
    "    bestAlignment, minHammingDist, kmer = ContainedMotifSearch(DNA,k)\n",
    "    motif = Consensus(bestAlignment,DNA,k)\n",
    "    newAlignment, HammingDist = ScanAndScoreMotif(DNA, motif)\n",
    "    return newAlignment, HammingDist, motif\n",
    "\n",
    "%time ContainedConsensusMotifSearch(seqApprox,10)"
   ]
  },
  {
   "cell_type": "markdown",
   "metadata": {},
   "source": [
    "## Randomized Motif Search\n",
    "Searches for a k-length motif that appears in all given DNA sequences. It begins with a random set of candidate consensus motifs derived from the data. It refines the motif until a true consensus emerges."
   ]
  },
  {
   "cell_type": "code",
   "execution_count": 56,
   "metadata": {},
   "outputs": [],
   "source": [
    "import random\n",
    "\n",
    "def RandomizedMotifSearch(DNA,k):\n",
    "    \"\"\" Searches for a k-length motif that appears \n",
    "    in all given DNA sequences. It begins with a\n",
    "    random set of candidate consensus motifs \n",
    "    derived from the data. It refines the motif\n",
    "    until a true consensus emerges.\"\"\"\n",
    "    \n",
    "    # Seed with motifs from random alignments\n",
    "    motifSet = set()\n",
    "    for i in range(500):\n",
    "        randomAlignment = [random.randint(0,len(DNA[j])-k) for j in range(len(DNA))]\n",
    "        motif = Consensus(randomAlignment, DNA, k)\n",
    "        motifSet.add(motif)\n",
    "\n",
    "    bestAlignment = []\n",
    "    minHammingDist = k*len(DNA)\n",
    "    kmer = ''\n",
    "    testSet = motifSet.copy()\n",
    "    while (len(testSet) > 0):\n",
    "        print(len(motifSet),end=', ')\n",
    "        nextSet = set()\n",
    "        for motif in testSet:\n",
    "            align, dist = ScanAndScoreMotif(DNA, motif)\n",
    "            # add new motifs based on these alignments\n",
    "            newMotif = Consensus(align, DNA, k)\n",
    "            if (newMotif not in motifSet):\n",
    "                nextSet.add(newMotif)\n",
    "            if (dist < minHammingDist):\n",
    "                bestAlignment = [s for s in align]\n",
    "                minHammingDist = dist\n",
    "                kmer = motif\n",
    "        testSet = nextSet.copy()\n",
    "        motifSet = motifSet | nextSet\n",
    "    return bestAlignment, minHammingDist, kmer"
   ]
  },
  {
   "cell_type": "markdown",
   "metadata": {},
   "source": [
    "## Let's try it"
   ]
  },
  {
   "cell_type": "code",
   "execution_count": 57,
   "metadata": {},
   "outputs": [
    {
     "name": "stdout",
     "output_type": "stream",
     "text": [
      "500, 771, 866, 883, 889, 890, CPU times: user 1.03 s, sys: 4.01 ms, total: 1.04 s\n",
      "Wall time: 1.03 s\n"
     ]
    },
    {
     "data": {
      "text/plain": [
       "([17, 47, 18, 33, 21, 0, 46, 70, 16, 65], 11, 'tagatccgaa')"
      ]
     },
     "execution_count": 57,
     "metadata": {},
     "output_type": "execute_result"
    }
   ],
   "source": [
    "%time RandomizedMotifSearch(seqApprox,10)"
   ]
  },
  {
   "cell_type": "code",
   "execution_count": 58,
   "metadata": {},
   "outputs": [
    {
     "name": "stdout",
     "output_type": "stream",
     "text": [
      "499, 774, 861, 876, 878, ([17, 47, 18, 33, 21, 0, 46, 70, 16, 65], 11, 'tagatccgaa')\n",
      "500, 768, 843, 863, 869, ([17, 47, 18, 33, 21, 0, 46, 70, 16, 65], 11, 'tagatccgaa')\n",
      "500, 743, 823, 843, 845, ([17, 47, 18, 33, 21, 0, 46, 70, 16, 65], 11, 'tagatccgaa')\n",
      "500, 756, 832, 844, 845, ([17, 47, 18, 33, 21, 0, 46, 70, 16, 65], 11, 'tagatccgaa')\n",
      "500, 745, 826, 844, 850, ([17, 47, 18, 33, 21, 0, 46, 70, 16, 65], 11, 'tagatccgaa')\n",
      "500, 776, 852, 870, 873, 874, ([17, 47, 18, 33, 21, 0, 46, 70, 16, 65], 11, 'tagatccgaa')\n",
      "500, 762, 857, 878, 880, ([17, 47, 18, 33, 21, 0, 46, 70, 16, 65], 11, 'tagatccgaa')\n",
      "500, 753, 822, 839, 844, 845, ([17, 47, 18, 33, 21, 0, 46, 70, 16, 65], 11, 'tagatccgaa')\n",
      "500, 764, 845, 865, 867, 868, ([17, 47, 18, 33, 21, 0, 46, 70, 16, 65], 11, 'tagatccgaa')\n",
      "500, 749, 825, 839, 841, ([17, 47, 18, 33, 21, 0, 46, 70, 16, 65], 11, 'tagatccgaa')\n"
     ]
    }
   ],
   "source": [
    "for i in range(10):\n",
    "    print(RandomizedMotifSearch(seqApprox,10))"
   ]
  },
  {
   "cell_type": "code",
   "execution_count": null,
   "metadata": {},
   "outputs": [],
   "source": []
  }
 ],
 "metadata": {
  "kernelspec": {
   "display_name": "Python 3",
   "language": "python",
   "name": "python3"
  },
  "language_info": {
   "codemirror_mode": {
    "name": "ipython",
    "version": 3
   },
   "file_extension": ".py",
   "mimetype": "text/x-python",
   "name": "python",
   "nbconvert_exporter": "python",
   "pygments_lexer": "ipython3",
   "version": "3.7.7-final"
  }
 },
 "nbformat": 4,
 "nbformat_minor": 2
}