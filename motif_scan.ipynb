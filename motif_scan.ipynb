{
 "cells": [
  {
   "cell_type": "markdown",
   "metadata": {},
   "source": [
    "# Search Motifs by scanning \n"
   ]
  },
  {
   "cell_type": "markdown",
   "metadata": {},
   "source": [
    "## Scanning-and-Scoring a Motif\n",
    "Given a possible motif, we find its best match in each sequence."
   ]
  },
  {
   "cell_type": "code",
   "execution_count": 1,
   "metadata": {},
   "outputs": [],
   "source": [
    "def ScanAndScoreMotif(DNA, motif):\n",
    "    \"\"\" Given a list of sequences in DNA and a motif,\n",
    "    find the best alignments of the motif in all sequences\n",
    "    and compute the total Hamming distances\"\"\"\n",
    "    totalDist = 0\n",
    "    bestAlignment = []\n",
    "    k = len(motif)\n",
    "    for seq in DNA:\n",
    "        minHammingDist = k+1\n",
    "        for s in range(len(seq)-k+1):\n",
    "            HammingDist = sum([1 for i in range(k) if motif[i] != seq[s+i]])\n",
    "            if (HammingDist < minHammingDist):\n",
    "                bestS = s\n",
    "                minHammingDist = HammingDist\n",
    "        bestAlignment.append(bestS)\n",
    "        totalDist += minHammingDist\n",
    "    return bestAlignment, totalDist"
   ]
  },
  {
   "cell_type": "code",
   "execution_count": 2,
   "metadata": {
    "tags": []
   },
   "outputs": [
    {
     "name": "stdout",
     "output_type": "stream",
     "text": [
      "Wall time: 4 ms\n",
      "[17, 47, 18, 33, 21, 0, 46, 70, 16, 65] 11\n",
      "tagatctgaa\n",
      "tggatccgaa\n",
      "tagacccgaa\n",
      "taaatccgaa\n",
      "taggtccaaa\n",
      "tagattcgaa\n",
      "cagatccgaa\n",
      "tagatccgta\n",
      "tagatccaaa\n",
      "tcgatccgaa\n",
      "Wall time: 2 ms\n",
      "[17, 47, 18, 33, 21, 0, 46, 70, 16, 65] 11\n",
      "tagatctgaa\n",
      "tggatccgaa\n",
      "tagacccgaa\n",
      "taaatccgaa\n",
      "taggtccaaa\n",
      "tagattcgaa\n",
      "cagatccgaa\n",
      "tagatccgta\n",
      "tagatccaaa\n",
      "tcgatccgaa\n"
     ]
    }
   ],
   "source": [
    "seqApprox = [\n",
    "    'tagtggtcttttgagtgtagatctgaagggaaagtatttccaccagttcggggtcacccagcagggcagggtgacttaat',\n",
    "    'cgcgactcggcgctcacagttatcgcacgtttagaccaaaacggagttggatccgaaactggagtttaatcggagtcctt',\n",
    "    'gttacttgtgagcctggttagacccgaaatataattgttggctgcatagcggagctgacatacgagtaggggaaatgcgt',\n",
    "    'aacatcaggctttgattaaacaatttaagcacgtaaatccgaattgacctgatgacaatacggaacatgccggctccggg',\n",
    "    'accaccggataggctgcttattaggtccaaaaggtagtatcgtaataatggctcagccatgtcaatgtgcggcattccac',\n",
    "    'tagattcgaatcgatcgtgtttctccctctgtgggttaacgaggggtccgaccttgctcgcatgtgccgaacttgtaccc',\n",
    "    'gaaatggttcggtgcgatatcaggccgttctcttaacttggcggtgcagatccgaacgtctctggaggggtcgtgcgcta',\n",
    "    'atgtatactagacattctaacgctcgcttattggcggagaccatttgctccactacaagaggctactgtgtagatccgta',\n",
    "    'ttcttacacccttctttagatccaaacctgttggcgccatcttcttttcgagtccttgtacctccatttgctctgatgac',\n",
    "    'ctacctatgtaaaacaacatctactaacgtagtccggtctttcctgatctgccctaacctacaggtcgatccgaaattcg']\n",
    "\n",
    "%time (bestAlignment, totalDist) = ScanAndScoreMotif(seqApprox, \"tagatccgaa\")\n",
    "print(bestAlignment, totalDist)\n",
    "k = len(\"tagatccgaa\")\n",
    "for i in range(len(bestAlignment)):\n",
    "        print(seqApprox[i][bestAlignment[i]:bestAlignment[i]+k])"
   ]
  },
  {
   "cell_type": "markdown",
   "metadata": {},
   "source": [
    "## Scan all possible k-mer motifs to find the best one\n",
    "How many motifs are to be scanned?"
   ]
  },
  {
   "cell_type": "code",
   "execution_count": 3,
   "metadata": {},
   "outputs": [
    {
     "name": "stdout",
     "output_type": "stream",
     "text": [
      "Wall time: 1min 55s\n"
     ]
    },
    {
     "data": {
      "text/plain": [
       "([19, 49, 20, 35, 23, 2, 48, 72, 18, 67], 8, 'gatccgaa')"
      ]
     },
     "execution_count": 3,
     "metadata": {},
     "output_type": "execute_result"
    }
   ],
   "source": [
    "import itertools\n",
    "\n",
    "def MedianStringMotifSearch(DNA,k):\n",
    "    \"\"\" Consider all possible 4**k motifs\"\"\"\n",
    "    bestAlignment = []\n",
    "    minHammingDist = k*len(DNA)\n",
    "    kmer = ''\n",
    "    for pattern in itertools.product('acgt', repeat=k):\n",
    "        motif = ''.join(pattern)\n",
    "        align, dist = ScanAndScoreMotif(DNA, motif)\n",
    "        if (dist < minHammingDist):\n",
    "            bestAlignment = [p for p in align]\n",
    "            minHammingDist = dist\n",
    "            kmer = motif\n",
    "    return bestAlignment, minHammingDist, kmer\n",
    "\n",
    "%time MedianStringMotifSearch(seqApprox,8)"
   ]
  },
  {
   "cell_type": "markdown",
   "metadata": {},
   "source": [
    "## Let's consider only Motifs seen in the DNA\n",
    "Are we guaranteed to get the best motif?"
   ]
  },
  {
   "cell_type": "code",
   "execution_count": 5,
   "metadata": {},
   "outputs": [
    {
     "name": "stdout",
     "output_type": "stream",
     "text": [
      "718 Motifs in our set\n",
      "Wall time: 1.34 s\n",
      "[19, 49, 20, 35, 23, 2, 48, 72, 18, 67] 8 gatccgaa\n",
      "gatctgaa\n",
      "gatccgaa\n",
      "gacccgaa\n",
      "aatccgaa\n",
      "ggtccaaa\n",
      "gattcgaa\n",
      "gatccgaa\n",
      "gatccgta\n",
      "gatccaaa\n",
      "gatccgaa\n"
     ]
    }
   ],
   "source": [
    "def ContainedMotifSearch(DNA,k):\n",
    "    \"\"\" Consider only motifs from the given DNA sequences\"\"\"\n",
    "    motifSet = set()\n",
    "    for seq in DNA:\n",
    "        for i in range(len(seq)-k+1):\n",
    "            motifSet.add(seq[i:i+k])\n",
    "    print(\"%d Motifs in our set\" % len(motifSet))\n",
    "    bestAlignment = []\n",
    "    minHammingDist = k*len(DNA)\n",
    "    kmer = ''\n",
    "    for motif in motifSet:\n",
    "        align, dist = ScanAndScoreMotif(DNA, motif)\n",
    "        if (dist < minHammingDist):\n",
    "            bestAlignment = [s for s in align]\n",
    "            minHammingDist = dist\n",
    "            kmer = motif\n",
    "    return bestAlignment, minHammingDist, kmer\n",
    "\n",
    "k = 8\n",
    "%time bestAlignment, minDist, kmer = ContainedMotifSearch(seqApprox, k)\n",
    "print(bestAlignment, minDist, kmer)\n",
    "for i in range(len(bestAlignment)):\n",
    "        print(seqApprox[i][bestAlignment[i]:bestAlignment[i]+k])"
   ]
  },
  {
   "cell_type": "markdown",
   "metadata": {},
   "source": [
    "## Contained Consensus Motif Search\n",
    "Note if we only consider kmers in the DNA, the best kmer isn't necessarily the consensus of the alignment. \n",
    "\n",
    "The following functions gets the consensus motif and profile given an alignment. It also computes the likelihood of k-mer given a profile. "
   ]
  },
  {
   "cell_type": "code",
   "execution_count": 10,
   "metadata": {},
   "outputs": [
    {
     "name": "stdout",
     "output_type": "stream",
     "text": [
      "709 Motifs in our set\n",
      "Wall time: 1.3 s\n",
      "tagatccgaa\n",
      "[17, 47, 18, 33, 21, 0, 46, 70, 16, 65] 11\n"
     ]
    }
   ],
   "source": [
    "import numpy as np\n",
    "\n",
    "def Consensus(s, DNA, k):\n",
    "    \"\"\" compute the consensus k-Motif of an alignment given offsets into each DNA string.\n",
    "            s = list of starting indices, 1-based, 0 means ignore, DNA = list of nucleotide strings,\n",
    "            k = Target Motif length \"\"\"\n",
    "    consensus = ''\n",
    "    for i in range(k):\n",
    "        # loop over string positions\n",
    "        cnt = dict(zip(\"acgt\",(0,0,0,0)))\n",
    "        for j, sval in enumerate(s):\n",
    "            # loop over DNA strands\n",
    "            base = DNA[j][sval+i] \n",
    "            cnt[base] += 1\n",
    "        consensus += max(cnt.items(), key=lambda tup: tup[1])[0]\n",
    "    return consensus\n",
    "\n",
    "\n",
    "def ContainedConsensusMotifSearch(DNA,k):\n",
    "    bestAlignment, minHammingDist, kmer = ContainedMotifSearch(DNA,k)\n",
    "    motif = Consensus(bestAlignment,DNA,k)\n",
    "    newAlignment, HammingDist = ScanAndScoreMotif(DNA, motif)\n",
    "    return newAlignment, HammingDist, motif\n",
    "\n",
    "%time newAlignment, HammingDist, motif = ContainedConsensusMotifSearch(seqApprox,10)\n",
    "print(motif)\n",
    "print(newAlignment, HammingDist)"
   ]
  },
  {
   "cell_type": "markdown",
   "metadata": {},
   "source": [
    "## Motif Profiles\n",
    "\n",
    "Represent a motif as a profile of base frequencies in each column. "
   ]
  },
  {
   "cell_type": "code",
   "execution_count": 27,
   "metadata": {},
   "outputs": [],
   "source": [
    "def Profile(s, DNA, k):\n",
    "    \"\"\" Compute the profile of k-mer motifs in a DNA string \n",
    "        s = list of starting positions, \n",
    "        DNA = list of nucleotide strings,\n",
    "        k = Target Motif length\"\"\"\n",
    "    profile = np.zeros((4, k))\n",
    "    for i in range(k):\n",
    "        # loop over string positions\n",
    "        cnt = dict(zip(\"acgt\",(0,0,0,0)))\n",
    "        for j, sval in enumerate(s):\n",
    "            # loop over DNA strands\n",
    "            base = DNA[j][sval+i] \n",
    "            cnt[base] += 1\n",
    "        profile[:, i] = np.fromiter(cnt.values(), dtype=float) / (float)(len(s))\n",
    "    return profile\n",
    "\n",
    "def LikelihoodKmerProfile(kmer, profile):\n",
    "    \"\"\"Given a profile, compute the probability of a kmer string\"\"\"\n",
    "    # check that kmer length matches with profile length\n",
    "    assert len(kmer) == profile.shape[1]\n",
    "    prob = 1.0\n",
    "    idx = dict(zip(\"acgt\", (0, 1, 2, 3)))\n",
    "    for i in range(len(kmer)):\n",
    "        prob = prob * profile[idx[kmer[i]], i]\n",
    "    return prob\n",
    "\n",
    "def ScanAndScoreProfile(DNA, profile):\n",
    "    \"\"\" Given a list of sequences in DNA and a profile,\n",
    "    find the best alignments of the profile in all sequences\n",
    "    return:\n",
    "        - the best alignment for this profile\n",
    "        - the total likelihood of the best alignment\n",
    "    \"\"\"\n",
    "    bestAlignment = []\n",
    "    totalLikelihood = 1\n",
    "    k = profile.shape[1] \n",
    "    for seq in DNA:\n",
    "        maxProbProfile = 0\n",
    "        for s in range(len(seq)-k+1):\n",
    "            prob = LikelihoodKmerProfile(seq[s:s+k], profile)\n",
    "            if (prob > maxProbProfile):\n",
    "                bestS = s\n",
    "                maxProbProfile = prob\n",
    "        bestAlignment.append(bestS)\n",
    "        totalLikelihood *= maxProbProfile\n",
    "    return bestAlignment, totalLikelihood"
   ]
  },
  {
   "cell_type": "code",
   "execution_count": 28,
   "metadata": {},
   "outputs": [
    {
     "name": "stdout",
     "output_type": "stream",
     "text": [
      "[[0.3 0.1 0.  0.6 0.2 0.1 0.  0.  0.6 0.1]\n",
      " [0.1 0.5 0.6 0.  0.2 0.1 0.5 0.1 0.1 0.1]\n",
      " [0.1 0.  0.4 0.3 0.5 0.5 0.3 0.3 0.  0.2]\n",
      " [0.5 0.4 0.  0.1 0.1 0.3 0.2 0.6 0.3 0.6]]\n",
      "0.00243\n",
      "([10, 21, 37, 3, 0, 5, 8, 56, 47, 32], 8.671917315939523e-42)\n"
     ]
    }
   ],
   "source": [
    "alignment = [10, 12, 11, 3, 0, 5, 8, 56, 46, 32]\n",
    "profile = Profile(alignment, seqApprox, 10)\n",
    "print(profile)\n",
    "motif = \"tccaggctat\"\n",
    "print(LikelihoodKmerProfile(motif, profile))\n",
    "bestProfileAlignment = ScanAndScoreProfile(seqApprox, profile)\n",
    "print(bestProfileAlignment)"
   ]
  },
  {
   "cell_type": "markdown",
   "metadata": {},
   "source": [
    "## Randomized Motif Search\n",
    "Searches for a k-length motif profile in given DNA sequences that maximize the total likelihood. It begins with a motif profile derived from a set of random start positions in the sequence. It iteratively update the start positions and profile until it converges. Try multiple random intializations to get the best result."
   ]
  },
  {
   "cell_type": "code",
   "execution_count": 58,
   "metadata": {},
   "outputs": [],
   "source": [
    "import numpy as np\n",
    "from numpy.random import randint\n",
    "from numpy.random import choice\n",
    "\n",
    "def RandomizedMotifSearch(DNA, k, r = 30):\n",
    "    \"\"\" Searches for a k-length motif that appears \n",
    "    in all given DNA sequences. It begins with a\n",
    "    random set of candidate consensus motifs \n",
    "    derived from the data. It refines the motif\n",
    "    using Gibbs sampler until a true consensus emerges.\n",
    "    DNA - list of DNA sequences\n",
    "    k - length of kmer motif\n",
    "    r - number of random initial alignments\n",
    "    \"\"\"\n",
    "    bestAlignment = []\n",
    "    bestLikelihood = 0\n",
    "    for sample in range(r):    # Try r different random initial alignments\n",
    "        #print(\"sample = \", sample)\n",
    "        # Start with a random alignment\n",
    "        randomAlignment = [randint(len(DNA[j])-k+1) for j in range(len(DNA))]\n",
    "        # Get the profile corresponding to this alignment\n",
    "        converged = False;\n",
    "        while not converged:\n",
    "            profile = Profile(randomAlignment, DNA, k)\n",
    "            # Get the best alignment corresponding to this profile\n",
    "            newAlignment, likelihood = ScanAndScoreProfile(DNA, profile)\n",
    "            if likelihood > bestLikelihood :\n",
    "                bestAlignment = newAlignment.copy()\n",
    "                #print(bestLikelihood, \" changed to \", likelihood)\n",
    "                bestLikelihood = likelihood\n",
    "                \n",
    "            if newAlignment == randomAlignment:   # stop when converged\n",
    "                converged = True\n",
    "            else:\n",
    "                randomAlignment = newAlignment    # repeat with the updated alignment\n",
    "        \n",
    "    return bestAlignment, bestLikelihood, Profile(bestAlignment, DNA, k)\n",
    "    "
   ]
  },
  {
   "cell_type": "markdown",
   "metadata": {},
   "source": [
    "## Let's try it"
   ]
  },
  {
   "cell_type": "code",
   "execution_count": 64,
   "metadata": {},
   "outputs": [
    {
     "name": "stdout",
     "output_type": "stream",
     "text": [
      "Wall time: 11.4 s\n",
      "[[0.  0.8 0.1 0.9 0.  0.  0.  0.2 0.9 1. ]\n",
      " [0.1 0.1 0.  0.  0.1 0.9 0.9 0.  0.  0. ]\n",
      " [0.  0.1 0.9 0.1 0.  0.  0.  0.8 0.  0. ]\n",
      " [0.9 0.  0.  0.  0.9 0.1 0.1 0.  0.1 0. ]] 1.4749519686370307e-15\n",
      "[17, 47, 18, 33, 21, 0, 46, 70, 16, 65]\n",
      "tagatccgaa\n"
     ]
    }
   ],
   "source": [
    "%time bestAlignment, bestLikelihood, profile = RandomizedMotifSearch(seqApprox,10, r = 500)\n",
    "print(profile, bestLikelihood)\n",
    "print(bestAlignment)\n",
    "print(Consensus(bestAlignment, seqApprox, 10))"
   ]
  },
  {
   "cell_type": "code",
   "execution_count": 61,
   "metadata": {},
   "outputs": [
    {
     "name": "stdout",
     "output_type": "stream",
     "text": [
      "[[0.  0.7 0.  0.8 0.2 0.1 0.  0.  0.6 0.9]\n",
      " [0.1 0.  0.1 0.  0.3 0.7 0.7 0.1 0.1 0. ]\n",
      " [0.  0.2 0.8 0.  0.  0.  0.  0.9 0.  0. ]\n",
      " [0.9 0.1 0.1 0.2 0.5 0.2 0.3 0.  0.3 0.1]] 6.716378594019652e-28\n",
      "tagatccgaa\n",
      "[[0.1 0.7 0.1 0.8 0.  0.  0.  0.2 0.8 0.9]\n",
      " [0.  0.1 0.  0.  0.1 0.8 0.9 0.  0.  0. ]\n",
      " [0.  0.2 0.9 0.2 0.1 0.  0.  0.8 0.  0.1]\n",
      " [0.9 0.  0.  0.  0.8 0.2 0.1 0.  0.2 0. ]] 2.525317894852944e-21\n",
      "tagatccgaa\n",
      "[[0.1 0.5 0.3 0.8 0.2 0.  0.1 0.  0.8 1. ]\n",
      " [0.2 0.1 0.  0.1 0.  0.6 0.8 0.1 0.  0. ]\n",
      " [0.  0.3 0.7 0.1 0.  0.1 0.  0.7 0.  0. ]\n",
      " [0.7 0.1 0.  0.  0.8 0.3 0.1 0.2 0.2 0. ]] 3.2510766269377904e-29\n",
      "tagatccgaa\n",
      "[[0.  1.  0.1 0.7 0.  0.  0.  0.4 0.7 0.9]\n",
      " [0.3 0.  0.1 0.  0.1 0.8 0.7 0.  0.  0.1]\n",
      " [0.  0.  0.8 0.3 0.  0.  0.1 0.6 0.1 0. ]\n",
      " [0.7 0.  0.  0.  0.9 0.2 0.2 0.  0.2 0. ]] 1.0829416377001932e-23\n",
      "tagatccgaa\n",
      "[[0.2 0.2 0.1 0.  0.5 0.2 1.  0.1 0.1 0.1]\n",
      " [0.  0.  0.2 0.5 0.2 0.  0.  0.4 0.8 0.2]\n",
      " [0.7 0.  0.6 0.  0.  0.8 0.  0.  0.1 0. ]\n",
      " [0.1 0.8 0.1 0.5 0.3 0.  0.  0.5 0.  0.7]] 4.03462815142778e-31\n",
      "gtgcagatct\n",
      "[[0.  0.7 0.2 0.9 0.  0.  0.  0.2 0.8 0.9]\n",
      " [0.  0.1 0.  0.  0.2 0.8 0.8 0.  0.  0.1]\n",
      " [0.  0.1 0.8 0.1 0.  0.  0.  0.8 0.1 0. ]\n",
      " [1.  0.1 0.  0.  0.8 0.2 0.2 0.  0.1 0. ]] 2.822739380843157e-21\n",
      "tagatccgaa\n",
      "[[0.1 0.7 0.1 0.8 0.  0.  0.1 0.2 0.9 0.9]\n",
      " [0.2 0.  0.  0.  0.3 0.9 0.7 0.  0.  0. ]\n",
      " [0.  0.2 0.8 0.  0.  0.  0.  0.8 0.  0. ]\n",
      " [0.7 0.1 0.1 0.2 0.7 0.1 0.2 0.  0.1 0.1]] 3.492338115355103e-25\n",
      "tagatccgaa\n",
      "[[0.  0.8 0.2 0.8 0.  0.  0.1 0.3 0.8 0.9]\n",
      " [0.  0.2 0.  0.  0.2 0.9 0.8 0.  0.  0. ]\n",
      " [0.  0.  0.8 0.2 0.1 0.  0.  0.7 0.  0. ]\n",
      " [1.  0.  0.  0.  0.7 0.1 0.1 0.  0.2 0.1]] 3.7411138989793285e-21\n",
      "tagatccgaa\n",
      "[[0.1 0.  0.6 0.2 0.7 0.  0.1 0.  0.3 1. ]\n",
      " [0.  0.2 0.2 0.  0.1 0.1 0.9 0.9 0.  0. ]\n",
      " [0.4 0.1 0.2 0.8 0.2 0.  0.  0.  0.7 0. ]\n",
      " [0.5 0.7 0.  0.  0.  0.9 0.  0.1 0.  0. ]] 5.623254004391565e-25\n",
      "ttagatccga\n",
      "[[0.  0.9 0.  0.8 0.  0.1 0.4 0.5 1.  0.7]\n",
      " [0.1 0.  0.  0.  0.3 0.6 0.5 0.  0.  0.3]\n",
      " [0.  0.  0.8 0.2 0.  0.  0.  0.5 0.  0. ]\n",
      " [0.9 0.1 0.2 0.  0.7 0.3 0.1 0.  0.  0. ]] 3.2891700703708083e-24\n",
      "tagatccaaa\n"
     ]
    }
   ],
   "source": [
    "for i in range(10):\n",
    "    bestAlignment, bestLikelihood, profile = RandomizedMotifSearch(seqApprox,10)\n",
    "    print(profile, bestLikelihood)\n",
    "    print(Consensus(bestAlignment, seqApprox, 10))"
   ]
  },
  {
   "cell_type": "code",
   "execution_count": null,
   "metadata": {},
   "outputs": [],
   "source": [
    "tagatccgaa"
   ]
  }
 ],
 "metadata": {
  "kernelspec": {
   "display_name": "Python 3",
   "language": "python",
   "name": "python3"
  },
  "language_info": {
   "codemirror_mode": {
    "name": "ipython",
    "version": 3
   },
   "file_extension": ".py",
   "mimetype": "text/x-python",
   "name": "python",
   "nbconvert_exporter": "python",
   "pygments_lexer": "ipython3",
   "version": "3.7.7"
  }
 },
 "nbformat": 4,
 "nbformat_minor": 2
}
