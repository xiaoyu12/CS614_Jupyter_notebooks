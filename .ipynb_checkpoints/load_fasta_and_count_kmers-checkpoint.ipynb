{
 "cells": [
  {
   "cell_type": "markdown",
   "metadata": {},
   "source": [
    "Run shell commands in Jupyter notebooks"
   ]
  },
  {
   "cell_type": "code",
   "execution_count": 2,
   "metadata": {
    "tags": []
   },
   "outputs": [
    {
     "name": "stdout",
     "output_type": "stream",
     "text": [
      "total 0\n",
      "-rwxrwx--- 1 zhang mkpasswd 6401454 Mar 26 05:49 BacillusBrevis.fa\n",
      "-rwxrwx--- 1 zhang mkpasswd   12425 Apr 14 06:13 CCGenotypes.csv\n",
      "-rwxrwx--- 1 zhang mkpasswd 1875627 Jan 21  2020 GenomeA.fa\n",
      "-rwxrwx--- 1 zhang mkpasswd 1875627 Jan 21  2020 GenomeB.fa\n",
      "-rwxrwx--- 1 zhang mkpasswd 1846362 Jan 21  2020 ThermotogaPetrophila.fa\n",
      "-rwxrwx--- 1 zhang mkpasswd 4191517 Jan 21  2020 VibrioCholerae.fa\n"
     ]
    }
   ],
   "source": [
    "!ls -l data/"
   ]
  },
  {
   "cell_type": "code",
   "execution_count": 3,
   "metadata": {
    "tags": []
   },
   "outputs": [
    {
     "name": "stdout",
     "output_type": "stream",
     "text": [
      ">gi|146313784|gb|CP000626.1| Vibrio cholerae O395 chromosome 1, complete genome\n",
      "ACAATGAGGTCACTATGTTCGAGCTCTTCAAACCGGCTGCGCATACGCAGCGGCTGCCATCCGATAAGGT\n",
      "GGACAGCGTCTATTCACGCCTTCGTTGGCAACTTTTCATCGGTATTTTTGTTGGCTATGCAGGCTACTAT\n",
      "TTGGTTCGTAAGAACTTTAGCTTGGCAATGCCTTACCTGATTGAACAAGGCTTTAGTCGTGGCGATCTGG\n",
      "GTGTGGCTCTCGGTGCGGTTTCAATCGCGTATGGTCTGTCTAAATTTTTGATGGGGAACGTCTCTGACCG\n",
      "TTCTAACCCGCGCTACTTTCTGAGTGCAGGTCTACTCCTTTCGGCACTAGTGATGTTCTGCTTCGGCTTT\n",
      "ATGCCATGGGCAACGGGCAGCATTACTGCGATGTTTATTCTGCTGTTCTTAAACGGCTGGTTCCAAGGCA\n",
      "TGGGTTGGCCTGCTTGTGGCCGTACTATGGTGCACTGGTGGTCACGCAAAGAGCGTGGTGAGATTGTTTC\n",
      "GGTCTGGAACGTCGCTCACAACGTCGGTGGTGGTTTGATTGGCCCCATTTTCCTGCTCGGCCTATGGATG\n",
      "TTTAACGATGATTGGCGCACGGCCTTCTATGTCCCCGCTTTCTTTGCGGTGCTGGTTGCCGTATTTACTT\n"
     ]
    }
   ],
   "source": [
    "!head data/VibrioCholerae.fa"
   ]
  },
  {
   "cell_type": "markdown",
   "metadata": {},
   "source": [
    "## A function to load sequences from a FASTA formatted file "
   ]
  },
  {
   "cell_type": "code",
   "execution_count": 4,
   "metadata": {},
   "outputs": [],
   "source": [
    "import gzip\n",
    "\n",
    "def loadFasta(filename):\n",
    "    \"\"\" Parses a classically formatted and possibly \n",
    "        compressed FASTA file into two lists. One of \n",
    "        headers and a second list of sequences.\n",
    "        The ith index of each list correspond.\"\"\"\n",
    "    if (filename.endswith(\".gz\")):\n",
    "        fp = gzip.open(filename, 'r')\n",
    "    else:\n",
    "        fp = open(filename, 'r')\n",
    "    # split at headers\n",
    "    data = fp.read().split('>')\n",
    "    fp.close()\n",
    "    # ignore whatever appears before the 1st header\n",
    "    data.pop(0)     \n",
    "    headers = []\n",
    "    sequences = []\n",
    "    for sequence in data:\n",
    "        lines = sequence.split('\\n')\n",
    "        headers.append(lines.pop(0))\n",
    "        # add an extra \"+\" to make string \"1-referenced\"\n",
    "        sequences.append('+' + ''.join(lines))\n",
    "    return (headers, sequences)"
   ]
  },
  {
   "cell_type": "markdown",
   "metadata": {},
   "source": [
    "## A k-mer count method \n",
    "This function creates a list of the genome positions where each *k-mer* appears. Each dictionary entry contains list of positions for one k-mer. The length of these lists are the same as the k-mer counts. We also merge the postions of each k-mer with its reverse complement using the key which is *lexigraghically* (alphabetical in our case) first. "
   ]
  },
  {
   "cell_type": "code",
   "execution_count": 9,
   "metadata": {},
   "outputs": [],
   "source": [
    "def kmerPositions(k, sequence):\n",
    "    \"\"\" returns the position of all k-mers in sequence as a dictionary\"\"\"\n",
    "    kmerPosition = {}\n",
    "    for i in range(1,len(sequence)-k+1):\n",
    "        kmer = sequence[i:i+k]\n",
    "        kmerPosition[kmer] = kmerPosition.get(kmer,[])+[i]\n",
    "    # combine kmers with their reverse complements\n",
    "    pairPosition = {}\n",
    "    for kmer, posList in kmerPosition.items():\n",
    "        krev = ''.join([{'A':'T','C':'G','G':'C','T':'A'}[base] for base in reversed(kmer)])   # one-liner\n",
    "        if (kmer < krev):\n",
    "            pairPosition[kmer] = sorted(posList + kmerPosition.get(krev, []))\n",
    "        elif (krev < kmer):\n",
    "            pairPosition[krev] = sorted(kmerPosition.get(krev, []) + posList)\n",
    "        else:\n",
    "            pairPosition[kmer] = posList\n",
    "    return pairPosition"
   ]
  },
  {
   "cell_type": "markdown",
   "metadata": {},
   "source": [
    "## Read a genome from a FASTA file\n",
    "Read the genome of Vibrio Cholerae."
   ]
  },
  {
   "cell_type": "code",
   "execution_count": 6,
   "metadata": {},
   "outputs": [
    {
     "name": "stdout",
     "output_type": "stream",
     "text": [
      "gi|146313784|gb|CP000626.1| Vibrio cholerae O395 chromosome 1, complete genome\n",
      "1108250 bases +ACAATGAGGTCACTATGTTCGAGCTCTTC ... CCGATAGTAGAGGTTTATACCATCGCAAAA\n",
      "\n",
      "gi|147673035|ref|NC_009457.1| Vibrio cholerae O395 chromosome 2, complete genome\n",
      "3024069 bases +GTTCGCCAGAGCGGTTTTTGACTAGCTTG ... TTTCTGGGTTAAACAGATACTCGGGGCTGG\n",
      "\n"
     ]
    }
   ],
   "source": [
    "header, seq = loadFasta(\"data/VibrioCholerae.fa\")\n",
    "\n",
    "for i in range(len(header)):\n",
    "    print(header[i])\n",
    "    print(len(seq[i])-1, \"bases\", seq[i][:30], \"...\", seq[i][-30:])\n",
    "    print()\n",
    "\n",
    "genome = seq[0]\n",
    "OriCStart = 151887"
   ]
  },
  {
   "cell_type": "markdown",
   "metadata": {},
   "source": [
    "## A *Clump* finding algorithm.\n",
    "\n",
    "We define a *Lt-clump* of a string as a window of length *L* that contains *t* or more copies of any k-mer and it's reverse complement. Note, it calls kmerPositions() as a subroutine."
   ]
  },
  {
   "cell_type": "code",
   "execution_count": 10,
   "metadata": {},
   "outputs": [],
   "source": [
    "def findClumps(string, k, L, t):\n",
    "    \"\"\" Find clumps of repeated k-mers in string. A clump occurs when t or more k-mers appear \n",
    "        within a window of size L. A list of (k-mer, position, count) tuples is returned \"\"\"\n",
    "    clumps = []\n",
    "    kmerData = kmerPositions(k, string)\n",
    "    for kmer, posList in kmerData.items():\n",
    "        for start in range(len(posList)-t):\n",
    "            end = start + t - 1\n",
    "            while ((posList[end] - posList[start]) <= L-k):\n",
    "                end += 1\n",
    "                if (end >= len(posList)):\n",
    "                    break\n",
    "            if (end - start >= t):\n",
    "                clumps.append((kmer, posList[start], end - start))\n",
    "    return clumps"
   ]
  },
  {
   "cell_type": "code",
   "execution_count": 11,
   "metadata": {},
   "outputs": [
    {
     "name": "stdout",
     "output_type": "stream",
     "text": [
      "172\n",
      "[('ATCAAAAAT', 566252, 6), ('AACCAGAAC', 922082, 13), ('AACCAGAAC', 922088, 12), ('AACCAGAAC', 922094, 11), ('AACCAGAAC', 922100, 10), ('AACCAGAAC', 922106, 9), ('AACCAGAAC', 922112, 8), ('AACCAGAAC', 922118, 7), ('AACCAGAAC', 922124, 6), ('GCAATAACA', 704434, 6), ('ATGTTATTG', 704433, 6), ('AATAACATC', 704432, 6), ('CTCTCTCTC', 798535, 6), ('AAATCAAAA', 566247, 7), ('AAATCAAAA', 566254, 6), ('AACAGCAAC', 1073067, 21), ('AACAGCAAC', 1073073, 20), ('AACAGCAAC', 1073079, 19), ('AACAGCAAC', 1073085, 18), ('AACAGCAAC', 1073091, 17)]\n"
     ]
    }
   ],
   "source": [
    "clumpList = findClumps(genome, 9, 500, 6)\n",
    "print(len(clumpList))\n",
    "print([clumpList[i] for i in range(min(20,len(clumpList)))])"
   ]
  },
  {
   "cell_type": "markdown",
   "metadata": {},
   "source": [
    "## Now let's get back the positions of these clumps.\n",
    "We focus on top-9 *biggest* clumps and seed the k-mer of the known ***Ori*** pattern "
   ]
  },
  {
   "cell_type": "code",
   "execution_count": 12,
   "metadata": {},
   "outputs": [
    {
     "name": "stdout",
     "output_type": "stream",
     "text": [
      "['ATGATCAAG', 'ACAGCAACA', 'AACAGCAAC', 'CAACAGCAA', 'CAGCAACAG', 'GCAACAGCA', 'AGCAACAGC', 'CCAGAACCA', 'ACCAGAACC', 'GAACCAGAA']\n"
     ]
    }
   ],
   "source": [
    "# Lets get the positions of all k-mers again\n",
    "kmers = kmerPositions(9, genome)\n",
    "\n",
    "# find kmers appearing in the most clumps \n",
    "kmerClump = {}\n",
    "for kmer,start,clumpSize in clumpList:\n",
    "    kmerClump[kmer] = kmerClump.get(kmer,0) + 1\n",
    "top10 = ['ATGATCAAG'] + [k for k in sorted(kmerClump, reverse=True, key=kmerClump.get)][:9]\n",
    "print(top10)"
   ]
  },
  {
   "cell_type": "markdown",
   "metadata": {},
   "source": [
    "## Let's look at where they are"
   ]
  },
  {
   "cell_type": "code",
   "execution_count": 13,
   "metadata": {},
   "outputs": [
    {
     "ename": "ModuleNotFoundError",
     "evalue": "No module named 'matplotlib'",
     "output_type": "error",
     "traceback": [
      "\u001b[1;31m---------------------------------------------------------------------------\u001b[0m",
      "\u001b[1;31mModuleNotFoundError\u001b[0m                       Traceback (most recent call last)",
      "\u001b[1;32m<ipython-input-13-d8d5ea5cf258>\u001b[0m in \u001b[0;36m<module>\u001b[1;34m\u001b[0m\n\u001b[1;32m----> 1\u001b[1;33m \u001b[0mget_ipython\u001b[0m\u001b[1;33m(\u001b[0m\u001b[1;33m)\u001b[0m\u001b[1;33m.\u001b[0m\u001b[0mrun_line_magic\u001b[0m\u001b[1;33m(\u001b[0m\u001b[1;34m'matplotlib'\u001b[0m\u001b[1;33m,\u001b[0m \u001b[1;34m'inline'\u001b[0m\u001b[1;33m)\u001b[0m\u001b[1;33m\u001b[0m\u001b[1;33m\u001b[0m\u001b[0m\n\u001b[0m\u001b[0;32m      2\u001b[0m \u001b[1;32mimport\u001b[0m \u001b[0mmatplotlib\u001b[0m\u001b[1;33m\u001b[0m\u001b[1;33m\u001b[0m\u001b[0m\n\u001b[0;32m      3\u001b[0m \u001b[1;32mimport\u001b[0m \u001b[0mmatplotlib\u001b[0m\u001b[1;33m.\u001b[0m\u001b[0mpyplot\u001b[0m \u001b[1;32mas\u001b[0m \u001b[0mplt\u001b[0m\u001b[1;33m\u001b[0m\u001b[1;33m\u001b[0m\u001b[0m\n\u001b[0;32m      4\u001b[0m \u001b[1;33m\u001b[0m\u001b[0m\n\u001b[0;32m      5\u001b[0m \u001b[0mplt\u001b[0m\u001b[1;33m.\u001b[0m\u001b[0mfigure\u001b[0m\u001b[1;33m(\u001b[0m\u001b[0mnum\u001b[0m\u001b[1;33m=\u001b[0m\u001b[1;32mNone\u001b[0m\u001b[1;33m,\u001b[0m \u001b[0mfigsize\u001b[0m\u001b[1;33m=\u001b[0m\u001b[1;33m(\u001b[0m\u001b[1;36m16\u001b[0m\u001b[1;33m,\u001b[0m \u001b[1;36m6\u001b[0m\u001b[1;33m)\u001b[0m\u001b[1;33m,\u001b[0m \u001b[0mdpi\u001b[0m\u001b[1;33m=\u001b[0m\u001b[1;36m100\u001b[0m\u001b[1;33m,\u001b[0m \u001b[0mfacecolor\u001b[0m\u001b[1;33m=\u001b[0m\u001b[1;34m'w'\u001b[0m\u001b[1;33m,\u001b[0m \u001b[0medgecolor\u001b[0m\u001b[1;33m=\u001b[0m\u001b[1;34m'k'\u001b[0m\u001b[1;33m)\u001b[0m\u001b[1;33m\u001b[0m\u001b[1;33m\u001b[0m\u001b[0m\n",
      "\u001b[1;32m~\\AppData\\Roaming\\Python\\Python37\\site-packages\\IPython\\core\\interactiveshell.py\u001b[0m in \u001b[0;36mrun_line_magic\u001b[1;34m(self, magic_name, line, _stack_depth)\u001b[0m\n\u001b[0;32m   2324\u001b[0m                 \u001b[0mkwargs\u001b[0m\u001b[1;33m[\u001b[0m\u001b[1;34m'local_ns'\u001b[0m\u001b[1;33m]\u001b[0m \u001b[1;33m=\u001b[0m \u001b[0mself\u001b[0m\u001b[1;33m.\u001b[0m\u001b[0mget_local_scope\u001b[0m\u001b[1;33m(\u001b[0m\u001b[0mstack_depth\u001b[0m\u001b[1;33m)\u001b[0m\u001b[1;33m\u001b[0m\u001b[1;33m\u001b[0m\u001b[0m\n\u001b[0;32m   2325\u001b[0m             \u001b[1;32mwith\u001b[0m \u001b[0mself\u001b[0m\u001b[1;33m.\u001b[0m\u001b[0mbuiltin_trap\u001b[0m\u001b[1;33m:\u001b[0m\u001b[1;33m\u001b[0m\u001b[1;33m\u001b[0m\u001b[0m\n\u001b[1;32m-> 2326\u001b[1;33m                 \u001b[0mresult\u001b[0m \u001b[1;33m=\u001b[0m \u001b[0mfn\u001b[0m\u001b[1;33m(\u001b[0m\u001b[1;33m*\u001b[0m\u001b[0margs\u001b[0m\u001b[1;33m,\u001b[0m \u001b[1;33m**\u001b[0m\u001b[0mkwargs\u001b[0m\u001b[1;33m)\u001b[0m\u001b[1;33m\u001b[0m\u001b[1;33m\u001b[0m\u001b[0m\n\u001b[0m\u001b[0;32m   2327\u001b[0m             \u001b[1;32mreturn\u001b[0m \u001b[0mresult\u001b[0m\u001b[1;33m\u001b[0m\u001b[1;33m\u001b[0m\u001b[0m\n\u001b[0;32m   2328\u001b[0m \u001b[1;33m\u001b[0m\u001b[0m\n",
      "\u001b[1;32m<decorator-gen-109>\u001b[0m in \u001b[0;36mmatplotlib\u001b[1;34m(self, line)\u001b[0m\n",
      "\u001b[1;32m~\\AppData\\Roaming\\Python\\Python37\\site-packages\\IPython\\core\\magic.py\u001b[0m in \u001b[0;36m<lambda>\u001b[1;34m(f, *a, **k)\u001b[0m\n\u001b[0;32m    185\u001b[0m     \u001b[1;31m# but it's overkill for just that one bit of state.\u001b[0m\u001b[1;33m\u001b[0m\u001b[1;33m\u001b[0m\u001b[1;33m\u001b[0m\u001b[0m\n\u001b[0;32m    186\u001b[0m     \u001b[1;32mdef\u001b[0m \u001b[0mmagic_deco\u001b[0m\u001b[1;33m(\u001b[0m\u001b[0marg\u001b[0m\u001b[1;33m)\u001b[0m\u001b[1;33m:\u001b[0m\u001b[1;33m\u001b[0m\u001b[1;33m\u001b[0m\u001b[0m\n\u001b[1;32m--> 187\u001b[1;33m         \u001b[0mcall\u001b[0m \u001b[1;33m=\u001b[0m \u001b[1;32mlambda\u001b[0m \u001b[0mf\u001b[0m\u001b[1;33m,\u001b[0m \u001b[1;33m*\u001b[0m\u001b[0ma\u001b[0m\u001b[1;33m,\u001b[0m \u001b[1;33m**\u001b[0m\u001b[0mk\u001b[0m\u001b[1;33m:\u001b[0m \u001b[0mf\u001b[0m\u001b[1;33m(\u001b[0m\u001b[1;33m*\u001b[0m\u001b[0ma\u001b[0m\u001b[1;33m,\u001b[0m \u001b[1;33m**\u001b[0m\u001b[0mk\u001b[0m\u001b[1;33m)\u001b[0m\u001b[1;33m\u001b[0m\u001b[1;33m\u001b[0m\u001b[0m\n\u001b[0m\u001b[0;32m    188\u001b[0m \u001b[1;33m\u001b[0m\u001b[0m\n\u001b[0;32m    189\u001b[0m         \u001b[1;32mif\u001b[0m \u001b[0mcallable\u001b[0m\u001b[1;33m(\u001b[0m\u001b[0marg\u001b[0m\u001b[1;33m)\u001b[0m\u001b[1;33m:\u001b[0m\u001b[1;33m\u001b[0m\u001b[1;33m\u001b[0m\u001b[0m\n",
      "\u001b[1;32m~\\AppData\\Roaming\\Python\\Python37\\site-packages\\IPython\\core\\magics\\pylab.py\u001b[0m in \u001b[0;36mmatplotlib\u001b[1;34m(self, line)\u001b[0m\n\u001b[0;32m     97\u001b[0m             \u001b[0mprint\u001b[0m\u001b[1;33m(\u001b[0m\u001b[1;34m\"Available matplotlib backends: %s\"\u001b[0m \u001b[1;33m%\u001b[0m \u001b[0mbackends_list\u001b[0m\u001b[1;33m)\u001b[0m\u001b[1;33m\u001b[0m\u001b[1;33m\u001b[0m\u001b[0m\n\u001b[0;32m     98\u001b[0m         \u001b[1;32melse\u001b[0m\u001b[1;33m:\u001b[0m\u001b[1;33m\u001b[0m\u001b[1;33m\u001b[0m\u001b[0m\n\u001b[1;32m---> 99\u001b[1;33m             \u001b[0mgui\u001b[0m\u001b[1;33m,\u001b[0m \u001b[0mbackend\u001b[0m \u001b[1;33m=\u001b[0m \u001b[0mself\u001b[0m\u001b[1;33m.\u001b[0m\u001b[0mshell\u001b[0m\u001b[1;33m.\u001b[0m\u001b[0menable_matplotlib\u001b[0m\u001b[1;33m(\u001b[0m\u001b[0margs\u001b[0m\u001b[1;33m.\u001b[0m\u001b[0mgui\u001b[0m\u001b[1;33m.\u001b[0m\u001b[0mlower\u001b[0m\u001b[1;33m(\u001b[0m\u001b[1;33m)\u001b[0m \u001b[1;32mif\u001b[0m \u001b[0misinstance\u001b[0m\u001b[1;33m(\u001b[0m\u001b[0margs\u001b[0m\u001b[1;33m.\u001b[0m\u001b[0mgui\u001b[0m\u001b[1;33m,\u001b[0m \u001b[0mstr\u001b[0m\u001b[1;33m)\u001b[0m \u001b[1;32melse\u001b[0m \u001b[0margs\u001b[0m\u001b[1;33m.\u001b[0m\u001b[0mgui\u001b[0m\u001b[1;33m)\u001b[0m\u001b[1;33m\u001b[0m\u001b[1;33m\u001b[0m\u001b[0m\n\u001b[0m\u001b[0;32m    100\u001b[0m             \u001b[0mself\u001b[0m\u001b[1;33m.\u001b[0m\u001b[0m_show_matplotlib_backend\u001b[0m\u001b[1;33m(\u001b[0m\u001b[0margs\u001b[0m\u001b[1;33m.\u001b[0m\u001b[0mgui\u001b[0m\u001b[1;33m,\u001b[0m \u001b[0mbackend\u001b[0m\u001b[1;33m)\u001b[0m\u001b[1;33m\u001b[0m\u001b[1;33m\u001b[0m\u001b[0m\n\u001b[0;32m    101\u001b[0m \u001b[1;33m\u001b[0m\u001b[0m\n",
      "\u001b[1;32m~\\AppData\\Roaming\\Python\\Python37\\site-packages\\IPython\\core\\interactiveshell.py\u001b[0m in \u001b[0;36menable_matplotlib\u001b[1;34m(self, gui)\u001b[0m\n\u001b[0;32m   3491\u001b[0m         \"\"\"\n\u001b[0;32m   3492\u001b[0m         \u001b[1;32mfrom\u001b[0m \u001b[0mIPython\u001b[0m\u001b[1;33m.\u001b[0m\u001b[0mcore\u001b[0m \u001b[1;32mimport\u001b[0m \u001b[0mpylabtools\u001b[0m \u001b[1;32mas\u001b[0m \u001b[0mpt\u001b[0m\u001b[1;33m\u001b[0m\u001b[1;33m\u001b[0m\u001b[0m\n\u001b[1;32m-> 3493\u001b[1;33m         \u001b[0mgui\u001b[0m\u001b[1;33m,\u001b[0m \u001b[0mbackend\u001b[0m \u001b[1;33m=\u001b[0m \u001b[0mpt\u001b[0m\u001b[1;33m.\u001b[0m\u001b[0mfind_gui_and_backend\u001b[0m\u001b[1;33m(\u001b[0m\u001b[0mgui\u001b[0m\u001b[1;33m,\u001b[0m \u001b[0mself\u001b[0m\u001b[1;33m.\u001b[0m\u001b[0mpylab_gui_select\u001b[0m\u001b[1;33m)\u001b[0m\u001b[1;33m\u001b[0m\u001b[1;33m\u001b[0m\u001b[0m\n\u001b[0m\u001b[0;32m   3494\u001b[0m \u001b[1;33m\u001b[0m\u001b[0m\n\u001b[0;32m   3495\u001b[0m         \u001b[1;32mif\u001b[0m \u001b[0mgui\u001b[0m \u001b[1;33m!=\u001b[0m \u001b[1;34m'inline'\u001b[0m\u001b[1;33m:\u001b[0m\u001b[1;33m\u001b[0m\u001b[1;33m\u001b[0m\u001b[0m\n",
      "\u001b[1;32m~\\AppData\\Roaming\\Python\\Python37\\site-packages\\IPython\\core\\pylabtools.py\u001b[0m in \u001b[0;36mfind_gui_and_backend\u001b[1;34m(gui, gui_select)\u001b[0m\n\u001b[0;32m    278\u001b[0m     \"\"\"\n\u001b[0;32m    279\u001b[0m \u001b[1;33m\u001b[0m\u001b[0m\n\u001b[1;32m--> 280\u001b[1;33m     \u001b[1;32mimport\u001b[0m \u001b[0mmatplotlib\u001b[0m\u001b[1;33m\u001b[0m\u001b[1;33m\u001b[0m\u001b[0m\n\u001b[0m\u001b[0;32m    281\u001b[0m \u001b[1;33m\u001b[0m\u001b[0m\n\u001b[0;32m    282\u001b[0m     \u001b[1;32mif\u001b[0m \u001b[0mgui\u001b[0m \u001b[1;32mand\u001b[0m \u001b[0mgui\u001b[0m \u001b[1;33m!=\u001b[0m \u001b[1;34m'auto'\u001b[0m\u001b[1;33m:\u001b[0m\u001b[1;33m\u001b[0m\u001b[1;33m\u001b[0m\u001b[0m\n",
      "\u001b[1;31mModuleNotFoundError\u001b[0m: No module named 'matplotlib'"
     ]
    }
   ],
   "source": [
    "%matplotlib inline\n",
    "import matplotlib\n",
    "import matplotlib.pyplot as plt\n",
    "\n",
    "plt.figure(num=None, figsize=(16, 6), dpi=100, facecolor='w', edgecolor='k')\n",
    "plt.plot([OriCStart, OriCStart], [0,10], 'k--')\n",
    "for n, kmer in enumerate(top10):\n",
    "    positions = kmers[kmer]\n",
    "    plt.text(1120000, n+0.4, kmer, fontsize=8)\n",
    "    plt.plot(positions, [n + 0.5 for i in range(len(positions))], 'o', markersize=4.0)\n",
    "limit = plt.xlim((0,1200000))"
   ]
  },
  {
   "cell_type": "code",
   "execution_count": null,
   "metadata": {},
   "outputs": [],
   "source": [
    "header, seq = loadFasta(\"data/ThermotogaPetrophila.fa\")\n",
    "\n",
    "for i in range(len(header)):\n",
    "    print(header[i])\n",
    "    print(len(seq[i])-1, \"bases\", seq[i][:30], \"...\", seq[i][-30:])\n",
    "    print()\n",
    "\n",
    "oriCStart = 786686\n",
    "oriOffset = 211          # offset to the middle of OriC\n",
    "\n",
    "x = seq[0][oriCStart+oriOffset-50:oriCStart+oriOffset+50]\n",
    "y = ''.join({'A':'T', 'C':'G', 'G':'C', 'T':'A'}[b] for b in x)\n",
    "print(x[:50],x[50:])\n",
    "print(y[:50],y[50:])"
   ]
  },
  {
   "cell_type": "code",
   "execution_count": null,
   "metadata": {},
   "outputs": [],
   "source": [
    "def getStats(sequence, start):\n",
    "    halflen = len(sequence)//2\n",
    "    terC = start + halflen\n",
    "    # handle genome's circular nature\n",
    "    if (terC > len(sequence)):\n",
    "        terC = terC - len(sequence) + 1\n",
    "    stats = {}\n",
    "    for base in \"ACGT\":\n",
    "        total = sequence.count(base)\n",
    "        if (terC > start):                                   # case 1: ----S========T---->\n",
    "            forwardCount = sequence[start:terC].count(base)\n",
    "            reverseCount = total - forwardCount\n",
    "        else:                                                # case 2: ====T--------S====>\n",
    "            reverseCount = sequence[terC:start].count(base)\n",
    "            forwardCount = total - reverseCount\n",
    "        stats[base] = (total, forwardCount, reverseCount)\n",
    "    return stats\n",
    "\n",
    "answer = getStats(seq[0], oriCStart+oriOffset)\n",
    "for base in \"CGAT\":\n",
    "    total, forwardCount, reverseCount = answer[base]\n",
    "    print(\"%s: %8d %8d %8d %8d\" % (base,total,forwardCount,reverseCount,forwardCount-reverseCount))"
   ]
  },
  {
   "cell_type": "code",
   "execution_count": null,
   "metadata": {},
   "outputs": [],
   "source": [
    "def getGCdiff(sequence, start):\n",
    "    halflen = len(sequence)//2\n",
    "    terC = start + halflen\n",
    "    # handle genome's circular nature\n",
    "    if (terC > len(sequence)):\n",
    "        terC = terC - len(sequence) + 1\n",
    "    if (terC > start):                                   # case 1: ----S========T---->\n",
    "        G = 2*sequence[start:terC].count('G') - sequence.count('G')\n",
    "        C = 2*sequence[start:terC].count('C') - sequence.count('C')\n",
    "    else:                                                # case 2: ====T--------S====>\n",
    "        G = sequence.count('G') - 2*sequence[terC:start].count('G')\n",
    "        C = sequence.count('C') - 2*sequence[terC:start].count('C')\n",
    "    return G - C\n",
    "\n",
    "def GCSkew(genome):\n",
    "    x = []\n",
    "    y = []\n",
    "    for i in range(1,len(genome),500):\n",
    "        x.append(i)\n",
    "        y.append(getGCdiff(genome,i))\n",
    "    return x, y"
   ]
  },
  {
   "cell_type": "code",
   "execution_count": null,
   "metadata": {},
   "outputs": [],
   "source": [
    "x, y = GCSkew(seq[0])\n",
    "\n",
    "plt.figure(num=None, figsize=(24, 7), dpi=100)\n",
    "yargmax = y.index(max(y))\n",
    "plt.axvline(oriCStart+oriOffset, color=\"r\", linestyle='--')\n",
    "plt.axvline(x[yargmax], color=\"g\", linestyle='--')\n",
    "result = plt.plot(x, y)\n",
    "print(x[yargmax], y[yargmax])"
   ]
  },
  {
   "cell_type": "code",
   "execution_count": null,
   "metadata": {},
   "outputs": [],
   "source": [
    "header, seq = loadFasta(\"data/VibrioCholerae.fa\")\n",
    "oriCStart = 151887\n",
    "x, y = GCSkew(seq[0])\n",
    "yargmax = y.index(max(y))\n",
    "plt.figure(num=None, figsize=(24, 7), dpi=100)\n",
    "plt.axvline(oriCStart, color=\"r\", linestyle='--')\n",
    "plt.axvline(x[yargmax], color=\"g\", linestyle='--')\n",
    "result = plt.plot(x, y)\n",
    "print(x[yargmax], y[yargmax])"
   ]
  },
  {
   "cell_type": "code",
   "execution_count": null,
   "metadata": {},
   "outputs": [],
   "source": [
    "header, seq = loadFasta(\"data/EscherichiaColi.fa\")\n",
    "\n",
    "for i in range(len(header)):\n",
    "    print(header[i])\n",
    "    print(len(seq[i])-1, \"bases\", seq[i][:30], \"...\", seq[i][-30:])\n",
    "    print()"
   ]
  },
  {
   "cell_type": "code",
   "execution_count": null,
   "metadata": {},
   "outputs": [],
   "source": [
    "x, y = GCSkew(seq[0])\n",
    "yargmax = y.index(max(y))\n",
    "plt.figure(num=None, figsize=(24, 7), dpi=100)\n",
    "plt.axvline(x[yargmax], color=\"g\", linestyle='--')\n",
    "result = plt.plot(x, y)\n",
    "print(x[yargmax], y[yargmax])"
   ]
  },
  {
   "cell_type": "code",
   "execution_count": null,
   "metadata": {},
   "outputs": [],
   "source": []
  }
 ],
 "metadata": {
  "kernelspec": {
   "display_name": "Python 3.7.5 64-bit",
   "language": "python",
   "name": "python37564bite88bfa81b4f34a7885229cd8da08b068"
  },
  "language_info": {
   "codemirror_mode": {
    "name": "ipython",
    "version": 3
   },
   "file_extension": ".py",
   "mimetype": "text/x-python",
   "name": "python",
   "nbconvert_exporter": "python",
   "pygments_lexer": "ipython3",
   "version": "3.7.5"
  }
 },
 "nbformat": 4,
 "nbformat_minor": 2
}
